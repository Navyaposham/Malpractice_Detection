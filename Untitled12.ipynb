{
  "cells": [
    {
      "cell_type": "code",
      "execution_count": 2,
      "metadata": {},
      "outputs": [
        {
          "name": "stdout",
          "output_type": "stream",
          "text": [
            "Extracted to C:\\Users\\posha\\OneDrive\\Malpractices\\archive\n"
          ]
        }
      ],
      "source": [
        "import zipfile\n",
        "import os\n",
        "\n",
        "# Path to the ZIP file\n",
        "zip_path = r\"C:\\Users\\posha\\OneDrive\\Malpractices\\archive (4) - Copy.zip\"\n",
        "\n",
        "# Folder to extract to\n",
        "extract_path = r\"C:\\Users\\posha\\OneDrive\\Malpractices\\archive\"\n",
        "\n",
        "# Unzip\n",
        "with zipfile.ZipFile(zip_path, 'r') as zip_ref:\n",
        "    zip_ref.extractall(extract_path)\n",
        "\n",
        "print(f\"Extracted to {os.path.abspath(extract_path)}\")"
      ]
    },
    {
      "cell_type": "code",
      "execution_count": 3,
      "metadata": {},
      "outputs": [
        {
          "name": "stdout",
          "output_type": "stream",
          "text": [
            "Requirement already satisfied: torch in c:\\users\\posha\\onedrive\\malpractices\\myenv\\lib\\site-packages (2.7.1)\n",
            "Requirement already satisfied: filelock in c:\\users\\posha\\onedrive\\malpractices\\myenv\\lib\\site-packages (from torch) (3.18.0)\n",
            "Requirement already satisfied: typing-extensions>=4.10.0 in c:\\users\\posha\\onedrive\\malpractices\\myenv\\lib\\site-packages (from torch) (4.14.1)\n",
            "Requirement already satisfied: sympy>=1.13.3 in c:\\users\\posha\\onedrive\\malpractices\\myenv\\lib\\site-packages (from torch) (1.14.0)\n",
            "Requirement already satisfied: networkx in c:\\users\\posha\\onedrive\\malpractices\\myenv\\lib\\site-packages (from torch) (3.5)\n",
            "Requirement already satisfied: jinja2 in c:\\users\\posha\\onedrive\\malpractices\\myenv\\lib\\site-packages (from torch) (3.1.6)\n",
            "Requirement already satisfied: fsspec in c:\\users\\posha\\onedrive\\malpractices\\myenv\\lib\\site-packages (from torch) (2025.7.0)\n",
            "Requirement already satisfied: setuptools in c:\\users\\posha\\onedrive\\malpractices\\myenv\\lib\\site-packages (from torch) (80.9.0)\n",
            "Requirement already satisfied: mpmath<1.4,>=1.1.0 in c:\\users\\posha\\onedrive\\malpractices\\myenv\\lib\\site-packages (from sympy>=1.13.3->torch) (1.3.0)\n",
            "Requirement already satisfied: MarkupSafe>=2.0 in c:\\users\\posha\\onedrive\\malpractices\\myenv\\lib\\site-packages (from jinja2->torch) (3.0.2)\n"
          ]
        }
      ],
      "source": [
        "!pip install torch\n"
      ]
    },
    {
      "cell_type": "code",
      "execution_count": 4,
      "metadata": {},
      "outputs": [],
      "source": [
        "import torch\n"
      ]
    },
    {
      "cell_type": "code",
      "execution_count": 5,
      "metadata": {},
      "outputs": [
        {
          "name": "stdout",
          "output_type": "stream",
          "text": [
            "Requirement already satisfied: tqdm in c:\\users\\posha\\onedrive\\malpractices\\myenv\\lib\\site-packages (4.67.1)\n",
            "Requirement already satisfied: colorama in c:\\users\\posha\\onedrive\\malpractices\\myenv\\lib\\site-packages (from tqdm) (0.4.6)\n"
          ]
        }
      ],
      "source": [
        "!pip install tqdm\n"
      ]
    },
    {
      "cell_type": "code",
      "execution_count": 6,
      "metadata": {},
      "outputs": [],
      "source": [
        "from tqdm import tqdm\n"
      ]
    },
    {
      "cell_type": "code",
      "execution_count": 7,
      "metadata": {},
      "outputs": [
        {
          "name": "stdout",
          "output_type": "stream",
          "text": [
            "Requirement already satisfied: torchvision in c:\\users\\posha\\onedrive\\malpractices\\myenv\\lib\\site-packages (0.22.1)\n",
            "Requirement already satisfied: numpy in c:\\users\\posha\\onedrive\\malpractices\\myenv\\lib\\site-packages (from torchvision) (2.1.3)\n",
            "Requirement already satisfied: torch==2.7.1 in c:\\users\\posha\\onedrive\\malpractices\\myenv\\lib\\site-packages (from torchvision) (2.7.1)\n",
            "Requirement already satisfied: pillow!=8.3.*,>=5.3.0 in c:\\users\\posha\\onedrive\\malpractices\\myenv\\lib\\site-packages (from torchvision) (11.3.0)\n",
            "Requirement already satisfied: filelock in c:\\users\\posha\\onedrive\\malpractices\\myenv\\lib\\site-packages (from torch==2.7.1->torchvision) (3.18.0)\n",
            "Requirement already satisfied: typing-extensions>=4.10.0 in c:\\users\\posha\\onedrive\\malpractices\\myenv\\lib\\site-packages (from torch==2.7.1->torchvision) (4.14.1)\n",
            "Requirement already satisfied: sympy>=1.13.3 in c:\\users\\posha\\onedrive\\malpractices\\myenv\\lib\\site-packages (from torch==2.7.1->torchvision) (1.14.0)\n",
            "Requirement already satisfied: networkx in c:\\users\\posha\\onedrive\\malpractices\\myenv\\lib\\site-packages (from torch==2.7.1->torchvision) (3.5)\n",
            "Requirement already satisfied: jinja2 in c:\\users\\posha\\onedrive\\malpractices\\myenv\\lib\\site-packages (from torch==2.7.1->torchvision) (3.1.6)\n",
            "Requirement already satisfied: fsspec in c:\\users\\posha\\onedrive\\malpractices\\myenv\\lib\\site-packages (from torch==2.7.1->torchvision) (2025.7.0)\n",
            "Requirement already satisfied: setuptools in c:\\users\\posha\\onedrive\\malpractices\\myenv\\lib\\site-packages (from torch==2.7.1->torchvision) (80.9.0)\n",
            "Requirement already satisfied: mpmath<1.4,>=1.1.0 in c:\\users\\posha\\onedrive\\malpractices\\myenv\\lib\\site-packages (from sympy>=1.13.3->torch==2.7.1->torchvision) (1.3.0)\n",
            "Requirement already satisfied: MarkupSafe>=2.0 in c:\\users\\posha\\onedrive\\malpractices\\myenv\\lib\\site-packages (from jinja2->torch==2.7.1->torchvision) (3.0.2)\n"
          ]
        }
      ],
      "source": [
        "!pip install torchvision"
      ]
    },
    {
      "cell_type": "code",
      "execution_count": 8,
      "metadata": {},
      "outputs": [],
      "source": [
        "from torchvision import transforms as T"
      ]
    },
    {
      "cell_type": "code",
      "execution_count": 9,
      "metadata": {},
      "outputs": [
        {
          "name": "stdout",
          "output_type": "stream",
          "text": [
            "Collecting sklearn\n",
            "  Using cached sklearn-0.0.post12.tar.gz (2.6 kB)\n",
            "  Preparing metadata (setup.py): started\n",
            "  Preparing metadata (setup.py): finished with status 'error'\n"
          ]
        },
        {
          "name": "stderr",
          "output_type": "stream",
          "text": [
            "  error: subprocess-exited-with-error\n",
            "  \n",
            "  × python setup.py egg_info did not run successfully.\n",
            "  │ exit code: 1\n",
            "  ╰─> [15 lines of output]\n",
            "      The 'sklearn' PyPI package is deprecated, use 'scikit-learn'\n",
            "      rather than 'sklearn' for pip commands.\n",
            "      \n",
            "      Here is how to fix this error in the main use cases:\n",
            "      - use 'pip install scikit-learn' rather than 'pip install sklearn'\n",
            "      - replace 'sklearn' by 'scikit-learn' in your pip requirements files\n",
            "        (requirements.txt, setup.py, setup.cfg, Pipfile, etc ...)\n",
            "      - if the 'sklearn' package is used by one of your dependencies,\n",
            "        it would be great if you take some time to track which package uses\n",
            "        'sklearn' instead of 'scikit-learn' and report it to their issue tracker\n",
            "      - as a last resort, set the environment variable\n",
            "        SKLEARN_ALLOW_DEPRECATED_SKLEARN_PACKAGE_INSTALL=True to avoid this error\n",
            "      \n",
            "      More information is available at\n",
            "      https://github.com/scikit-learn/sklearn-pypi-package\n",
            "      [end of output]\n",
            "  \n",
            "  note: This error originates from a subprocess, and is likely not a problem with pip.\n",
            "error: metadata-generation-failed\n",
            "\n",
            "× Encountered error while generating package metadata.\n",
            "╰─> See above for output.\n",
            "\n",
            "note: This is an issue with the package mentioned above, not pip.\n",
            "hint: See above for details.\n"
          ]
        }
      ],
      "source": [
        "!pip install sklearn"
      ]
    },
    {
      "cell_type": "code",
      "execution_count": 10,
      "metadata": {},
      "outputs": [
        {
          "name": "stdout",
          "output_type": "stream",
          "text": [
            "Requirement already satisfied: scikit-learn in c:\\users\\posha\\onedrive\\malpractices\\myenv\\lib\\site-packages (1.7.1)\n",
            "Requirement already satisfied: numpy>=1.22.0 in c:\\users\\posha\\onedrive\\malpractices\\myenv\\lib\\site-packages (from scikit-learn) (2.1.3)\n",
            "Requirement already satisfied: scipy>=1.8.0 in c:\\users\\posha\\onedrive\\malpractices\\myenv\\lib\\site-packages (from scikit-learn) (1.16.1)\n",
            "Requirement already satisfied: joblib>=1.2.0 in c:\\users\\posha\\onedrive\\malpractices\\myenv\\lib\\site-packages (from scikit-learn) (1.5.1)\n",
            "Requirement already satisfied: threadpoolctl>=3.1.0 in c:\\users\\posha\\onedrive\\malpractices\\myenv\\lib\\site-packages (from scikit-learn) (3.6.0)\n"
          ]
        }
      ],
      "source": [
        "!pip install scikit-learn\n"
      ]
    },
    {
      "cell_type": "code",
      "execution_count": 11,
      "metadata": {},
      "outputs": [],
      "source": [
        "from sklearn.utils.class_weight import compute_class_weight\n"
      ]
    },
    {
      "cell_type": "code",
      "execution_count": 12,
      "metadata": {},
      "outputs": [
        {
          "name": "stdout",
          "output_type": "stream",
          "text": [
            "Train Batches: 88\n",
            "Val Batches: 10\n",
            "Test Batches: 496\n",
            "Classes: {'cheating': 0, 'giving code': 1, 'giving object': 2, 'looking friend': 3, 'normal act': 4}\n"
          ]
        },
        {
          "name": "stderr",
          "output_type": "stream",
          "text": [
            "Epoch 1/5 - Training: 100%|██████████| 88/88 [00:33<00:00,  2.61it/s]\n"
          ]
        },
        {
          "name": "stdout",
          "output_type": "stream",
          "text": [
            "Epoch 1, Train Loss: 1.1296, Accuracy: 0.7018\n",
            "Epoch 1, Val Loss: 0.9549, Accuracy: 0.8599\n",
            "\n"
          ]
        },
        {
          "name": "stderr",
          "output_type": "stream",
          "text": [
            "Epoch 2/5 - Training: 100%|██████████| 88/88 [00:22<00:00,  3.98it/s]\n"
          ]
        },
        {
          "name": "stdout",
          "output_type": "stream",
          "text": [
            "Epoch 2, Train Loss: 0.4984, Accuracy: 0.8548\n",
            "Epoch 2, Val Loss: 0.3405, Accuracy: 0.9236\n",
            "\n"
          ]
        },
        {
          "name": "stderr",
          "output_type": "stream",
          "text": [
            "Epoch 3/5 - Training: 100%|██████████| 88/88 [00:21<00:00,  4.14it/s]\n"
          ]
        },
        {
          "name": "stdout",
          "output_type": "stream",
          "text": [
            "Epoch 3, Train Loss: 0.2490, Accuracy: 0.9132\n",
            "Epoch 3, Val Loss: 0.3542, Accuracy: 0.9172\n",
            "\n"
          ]
        },
        {
          "name": "stderr",
          "output_type": "stream",
          "text": [
            "Epoch 4/5 - Training: 100%|██████████| 88/88 [00:20<00:00,  4.28it/s]\n"
          ]
        },
        {
          "name": "stdout",
          "output_type": "stream",
          "text": [
            "Epoch 4, Train Loss: 0.1360, Accuracy: 0.9416\n",
            "Epoch 4, Val Loss: 0.3335, Accuracy: 0.9363\n",
            "\n"
          ]
        },
        {
          "name": "stderr",
          "output_type": "stream",
          "text": [
            "Epoch 5/5 - Training: 100%|██████████| 88/88 [00:21<00:00,  4.11it/s]\n"
          ]
        },
        {
          "name": "stdout",
          "output_type": "stream",
          "text": [
            "Epoch 5, Train Loss: 0.0977, Accuracy: 0.9601\n",
            "Epoch 5, Val Loss: 0.6598, Accuracy: 0.9363\n",
            "\n"
          ]
        }
      ],
      "source": [
        "import os\n",
        "import torch\n",
        "import torch.nn as nn\n",
        "import torch.nn.functional as F\n",
        "from tqdm import tqdm\n",
        "from torch.utils.data import DataLoader, random_split, Dataset\n",
        "from torchvision import transforms as T\n",
        "from sklearn.utils.class_weight import compute_class_weight\n",
        "from glob import glob\n",
        "from PIL import Image\n",
        "import numpy as np\n",
        "import matplotlib.pyplot as plt\n",
        "\n",
        "# ----------------------\n",
        "# ✅ Custom Dataset\n",
        "# ----------------------\n",
        "class CustomDataset(Dataset):\n",
        "    def __init__(self, root, data_type=None, transformations=None):\n",
        "        self.transformations = transformations\n",
        "        self.data_type = data_type\n",
        "        if data_type == \"train\":\n",
        "            self.im_paths = glob(f\"{root}/train/*/*.*\")\n",
        "            self.get_info()\n",
        "        elif data_type == \"test\":\n",
        "            self.im_paths = glob(f\"{root}/test/**/*.*\", recursive=True)\n",
        "        else:\n",
        "            raise ValueError(\"data_type must be 'train' or 'test'\")\n",
        "\n",
        "    def get_info(self):\n",
        "        self.cls_names, self.cls_counts, count = {}, {}, 0\n",
        "        for im_path in self.im_paths:\n",
        "            class_name = os.path.basename(os.path.dirname(im_path))\n",
        "            if class_name not in self.cls_names:\n",
        "                self.cls_names[class_name] = count\n",
        "                self.cls_counts[class_name] = 1\n",
        "                count += 1\n",
        "            else:\n",
        "                self.cls_counts[class_name] += 1\n",
        "\n",
        "    def __len__(self):\n",
        "        return len(self.im_paths)\n",
        "\n",
        "    def __getitem__(self, idx):\n",
        "        im_path = self.im_paths[idx]\n",
        "        im = Image.open(im_path).convert(\"RGB\")\n",
        "        if self.data_type == \"train\":\n",
        "            label_name = os.path.basename(os.path.dirname(im_path))\n",
        "            gt = self.cls_names[label_name]\n",
        "        else:\n",
        "            gt = im_path  # For inference\n",
        "        if self.transformations:\n",
        "            im = self.transformations(im)\n",
        "        return im, gt\n",
        "\n",
        "# ----------------------\n",
        "# ✅ Data Loaders\n",
        "# ----------------------\n",
        "def get_dls(root, transformations, bs, split=[0.9, 0.1], ns=0):\n",
        "    dataset = CustomDataset(root=root, data_type=\"train\", transformations=transformations)\n",
        "    ts_ds = CustomDataset(root=root, data_type=\"test\", transformations=transformations)\n",
        "\n",
        "    tr_len = int(len(dataset) * split[0])\n",
        "    vl_len = len(dataset) - tr_len\n",
        "\n",
        "    tr_ds, vl_ds = random_split(dataset, [tr_len, vl_len])\n",
        "\n",
        "    tr_dl = DataLoader(tr_ds, batch_size=bs, shuffle=True, num_workers=ns)\n",
        "    val_dl = DataLoader(vl_ds, batch_size=bs, shuffle=False, num_workers=ns)\n",
        "    ts_dl = DataLoader(ts_ds, batch_size=1, shuffle=False, num_workers=ns)\n",
        "\n",
        "    return tr_dl, val_dl, ts_dl, dataset.cls_names\n",
        "\n",
        "# ----------------------\n",
        "# ✅ Custom CNN Model\n",
        "# ----------------------\n",
        "class CustomCNN(nn.Module):\n",
        "    def __init__(self, num_classes):\n",
        "        super().__init__()\n",
        "        self.conv1 = nn.Conv2d(3, 32, kernel_size=3, padding=1)\n",
        "        self.conv2 = nn.Conv2d(32, 64, kernel_size=3, padding=1)\n",
        "        self.pool = nn.MaxPool2d(2, 2)\n",
        "        self.dropout = nn.Dropout(0.25)\n",
        "        self.fc1 = nn.Linear(64 * 16 * 16, 128)\n",
        "        self.fc2 = nn.Linear(128, num_classes)\n",
        "\n",
        "    def forward(self, x):\n",
        "        x = self.pool(F.relu(self.conv1(x)))\n",
        "        x = self.pool(F.relu(self.conv2(x)))\n",
        "        x = self.dropout(x)\n",
        "        x = torch.flatten(x, 1)\n",
        "        x = F.relu(self.fc1(x))\n",
        "        x = self.fc2(x)\n",
        "        return x\n",
        "\n",
        "# ----------------------\n",
        "# ✅ Training Pipeline\n",
        "# ----------------------\n",
        "def train_model(model, train_loader, val_loader, criterion, optimizer, device, epochs=25):\n",
        "    model.to(device)\n",
        "    for epoch in range(epochs):\n",
        "        model.train()\n",
        "        total_loss, correct, total = 0.0, 0, 0\n",
        "\n",
        "        for imgs, labels in tqdm(train_loader, desc=f\"Epoch {epoch+1}/{epochs} - Training\"):\n",
        "            imgs, labels = imgs.to(device), labels.to(device)\n",
        "            optimizer.zero_grad()\n",
        "            outputs = model(imgs)\n",
        "            loss = criterion(outputs, labels)\n",
        "            loss.backward()\n",
        "            optimizer.step()\n",
        "\n",
        "            total_loss += loss.item() * imgs.size(0)\n",
        "            correct += (outputs.argmax(1) == labels).sum().item()\n",
        "            total += labels.size(0)\n",
        "\n",
        "        train_acc = correct / total\n",
        "        print(f\"Epoch {epoch+1}, Train Loss: {total_loss/total:.4f}, Accuracy: {train_acc:.4f}\")\n",
        "\n",
        "        # Validation\n",
        "        model.eval()\n",
        "        val_loss, val_correct, val_total = 0.0, 0, 0\n",
        "        with torch.no_grad():\n",
        "            for imgs, labels in val_loader:\n",
        "                imgs, labels = imgs.to(device), labels.to(device)\n",
        "                outputs = model(imgs)\n",
        "                loss = criterion(outputs, labels)\n",
        "\n",
        "                val_loss += loss.item() * imgs.size(0)\n",
        "                val_correct += (outputs.argmax(1) == labels).sum().item()\n",
        "                val_total += labels.size(0)\n",
        "\n",
        "        val_acc = val_correct / val_total\n",
        "        print(f\"Epoch {epoch+1}, Val Loss: {val_loss/val_total:.4f}, Accuracy: {val_acc:.4f}\\n\")\n",
        "\n",
        "# ----------------------\n",
        "# ✅ Setup & Run Training\n",
        "# ----------------------\n",
        "root = r\"C:\\Users\\posha\\OneDrive\\Malpractices\\archive\\ExamCheatingDataset\"\n",
        "mean, std, im_size = [0.485, 0.456, 0.406], [0.229, 0.224, 0.225], 64\n",
        "\n",
        "transform = T.Compose([\n",
        "    T.Resize((im_size, im_size)),\n",
        "    T.ToTensor(),\n",
        "    T.Normalize(mean, std)\n",
        "])\n",
        "\n",
        "tr_dl, val_dl, ts_dl, classes = get_dls(root=root, transformations=transform, bs=16, ns=0)\n",
        "\n",
        "print(\"Train Batches:\", len(tr_dl))\n",
        "print(\"Val Batches:\", len(val_dl))\n",
        "print(\"Test Batches:\", len(ts_dl))\n",
        "print(\"Classes:\", classes)\n",
        "\n",
        "# ----------------------\n",
        "# ✅ Run Training\n",
        "# ----------------------\n",
        "device = torch.device(\"cuda\" if torch.cuda.is_available() else \"cpu\")\n",
        "model = CustomCNN(num_classes=len(classes))\n",
        "optimizer = torch.optim.Adam(model.parameters(), lr=3e-4)\n",
        "class_weights = compute_class_weight('balanced', classes=np.arange(len(classes)), y=[label for _, label in tr_dl.dataset])\n",
        "weights_tensor = torch.tensor(class_weights, dtype=torch.float).to(device)\n",
        "criterion = nn.CrossEntropyLoss(weight=weights_tensor)\n",
        "\n",
        "train_model(model, tr_dl, val_dl, criterion, optimizer, device, epochs=5)\n"
      ]
    },
    {
      "cell_type": "code",
      "execution_count": 13,
      "metadata": {},
      "outputs": [
        {
          "name": "stdout",
          "output_type": "stream",
          "text": [
            "Requirement already satisfied: matplotlib in c:\\users\\posha\\onedrive\\malpractices\\myenv\\lib\\site-packages (3.10.5)\n",
            "Requirement already satisfied: contourpy>=1.0.1 in c:\\users\\posha\\onedrive\\malpractices\\myenv\\lib\\site-packages (from matplotlib) (1.3.3)\n",
            "Requirement already satisfied: cycler>=0.10 in c:\\users\\posha\\onedrive\\malpractices\\myenv\\lib\\site-packages (from matplotlib) (0.12.1)\n",
            "Requirement already satisfied: fonttools>=4.22.0 in c:\\users\\posha\\onedrive\\malpractices\\myenv\\lib\\site-packages (from matplotlib) (4.59.0)\n",
            "Requirement already satisfied: kiwisolver>=1.3.1 in c:\\users\\posha\\onedrive\\malpractices\\myenv\\lib\\site-packages (from matplotlib) (1.4.8)\n",
            "Requirement already satisfied: numpy>=1.23 in c:\\users\\posha\\onedrive\\malpractices\\myenv\\lib\\site-packages (from matplotlib) (2.1.3)\n",
            "Requirement already satisfied: packaging>=20.0 in c:\\users\\posha\\onedrive\\malpractices\\myenv\\lib\\site-packages (from matplotlib) (25.0)\n",
            "Requirement already satisfied: pillow>=8 in c:\\users\\posha\\onedrive\\malpractices\\myenv\\lib\\site-packages (from matplotlib) (11.3.0)\n",
            "Requirement already satisfied: pyparsing>=2.3.1 in c:\\users\\posha\\onedrive\\malpractices\\myenv\\lib\\site-packages (from matplotlib) (3.2.3)\n",
            "Requirement already satisfied: python-dateutil>=2.7 in c:\\users\\posha\\onedrive\\malpractices\\myenv\\lib\\site-packages (from matplotlib) (2.9.0.post0)\n",
            "Requirement already satisfied: six>=1.5 in c:\\users\\posha\\onedrive\\malpractices\\myenv\\lib\\site-packages (from python-dateutil>=2.7->matplotlib) (1.17.0)\n"
          ]
        }
      ],
      "source": [
        "!pip install matplotlib\n"
      ]
    },
    {
      "cell_type": "code",
      "execution_count": 14,
      "metadata": {},
      "outputs": [],
      "source": [
        "import matplotlib.pyplot as plt\n"
      ]
    },
    {
      "cell_type": "code",
      "execution_count": 15,
      "metadata": {
        "colab": {
          "base_uri": "https://localhost:8080/",
          "height": 1000
        },
        "id": "ARcicV3Lngqx",
        "outputId": "c1e779a2-f14c-421d-f33a-94b4b87af696"
      },
      "outputs": [
        {
          "name": "stdout",
          "output_type": "stream",
          "text": [
            "Train Batches: 340\n",
            "Val Batches: 38\n",
            "Test Batches: 496\n",
            "Classes: {'cheating': 0, 'giving code': 1, 'giving object': 2, 'looking friend': 3, 'normal act': 4}\n"
          ]
        },
        {
          "name": "stderr",
          "output_type": "stream",
          "text": [
            "Epoch 1/5 - Training: 100%|██████████| 340/340 [00:31<00:00, 10.95it/s]\n"
          ]
        },
        {
          "name": "stdout",
          "output_type": "stream",
          "text": [
            "Epoch 1, Loss: 1.5003, Cls Acc: 0.5099, Spoof Acc: 0.6706\n"
          ]
        },
        {
          "name": "stderr",
          "output_type": "stream",
          "text": [
            "Epoch 2/5 - Training: 100%|██████████| 340/340 [00:20<00:00, 16.95it/s]\n"
          ]
        },
        {
          "name": "stdout",
          "output_type": "stream",
          "text": [
            "Epoch 2, Loss: 1.1432, Cls Acc: 0.6699, Spoof Acc: 0.7406\n"
          ]
        },
        {
          "name": "stderr",
          "output_type": "stream",
          "text": [
            "Epoch 3/5 - Training: 100%|██████████| 340/340 [00:17<00:00, 19.14it/s]\n"
          ]
        },
        {
          "name": "stdout",
          "output_type": "stream",
          "text": [
            "Epoch 3, Loss: 0.8648, Cls Acc: 0.7443, Spoof Acc: 0.7907\n"
          ]
        },
        {
          "name": "stderr",
          "output_type": "stream",
          "text": [
            "Epoch 4/5 - Training: 100%|██████████| 340/340 [00:16<00:00, 20.22it/s]\n"
          ]
        },
        {
          "name": "stdout",
          "output_type": "stream",
          "text": [
            "Epoch 4, Loss: 0.6915, Cls Acc: 0.8099, Spoof Acc: 0.8254\n"
          ]
        },
        {
          "name": "stderr",
          "output_type": "stream",
          "text": [
            "Epoch 5/5 - Training: 100%|██████████| 340/340 [00:25<00:00, 13.32it/s]"
          ]
        },
        {
          "name": "stdout",
          "output_type": "stream",
          "text": [
            "Epoch 5, Loss: 0.5843, Cls Acc: 0.8467, Spoof Acc: 0.8651\n",
            "✅ Training Complete\n"
          ]
        },
        {
          "name": "stderr",
          "output_type": "stream",
          "text": [
            "\n"
          ]
        }
      ],
      "source": [
        "import os\n",
        "import torch\n",
        "import torch.nn as nn\n",
        "import torch.nn.functional as F\n",
        "from torch.utils.data import DataLoader, Dataset, random_split\n",
        "from torchvision import transforms as T\n",
        "from glob import glob\n",
        "from PIL import Image\n",
        "import numpy as np\n",
        "from sklearn.utils.class_weight import compute_class_weight\n",
        "from tqdm import tqdm\n",
        "\n",
        "# ----------------------\n",
        "# ✅ Custom Dataset Loader\n",
        "# ----------------------\n",
        "class CustomDataset(Dataset):\n",
        "    def __init__(self, root, data_type=None, transformations=None):\n",
        "        self.transformations = transformations\n",
        "        self.data_type = data_type\n",
        "        if data_type == \"train\":\n",
        "            self.im_paths = glob(os.path.join(root, \"train\", \"*\", \"*.jpg\"))\n",
        "            self.get_info()\n",
        "        elif data_type == \"test\":\n",
        "            self.im_paths = glob(os.path.join(root, \"test\", \"**\", \"*.jpg\"), recursive=True)\n",
        "        else:\n",
        "            raise ValueError(\"data_type must be 'train' or 'test'\")\n",
        "\n",
        "    def get_info(self):\n",
        "        self.cls_names, self.cls_counts, count = {}, {}, 0\n",
        "        for im_path in self.im_paths:\n",
        "            class_name = os.path.basename(os.path.dirname(im_path))\n",
        "            if class_name not in self.cls_names:\n",
        "                self.cls_names[class_name] = count\n",
        "                self.cls_counts[class_name] = 1\n",
        "                count += 1\n",
        "            else:\n",
        "                self.cls_counts[class_name] += 1\n",
        "\n",
        "    def __len__(self):\n",
        "        return len(self.im_paths)\n",
        "\n",
        "    def __getitem__(self, idx):\n",
        "        im_path = self.im_paths[idx]\n",
        "        im = Image.open(im_path).convert(\"RGB\")\n",
        "\n",
        "        if self.data_type == \"train\":\n",
        "            label_name = os.path.basename(os.path.dirname(im_path))\n",
        "            gt = self.cls_names[label_name]\n",
        "            spoof_label = 0 if label_name.lower() == \"normal act\" else 1\n",
        "            if self.transformations:\n",
        "                im = self.transformations(im)\n",
        "            return im, gt, spoof_label\n",
        "        else:\n",
        "            if self.transformations:\n",
        "                im = self.transformations(im)\n",
        "            return im, im_path  # For test, return image & path\n",
        "\n",
        "# ----------------------\n",
        "# ✅ Data Loaders\n",
        "# ----------------------\n",
        "def get_dls(root, transformations, bs, split=[0.9, 0.1], ns=0):\n",
        "    dataset = CustomDataset(root=root, data_type=\"train\", transformations=transformations)\n",
        "    ts_ds = CustomDataset(root=root, data_type=\"test\", transformations=transformations)\n",
        "\n",
        "    tr_len = int(len(dataset) * split[0])\n",
        "    vl_len = len(dataset) - tr_len\n",
        "\n",
        "    tr_ds, vl_ds = random_split(dataset, [tr_len, vl_len])\n",
        "\n",
        "    tr_dl = DataLoader(tr_ds, batch_size=bs, shuffle=True, num_workers=ns)\n",
        "    val_dl = DataLoader(vl_ds, batch_size=bs, shuffle=False, num_workers=ns)\n",
        "    ts_dl = DataLoader(ts_ds, batch_size=1, shuffle=False, num_workers=ns)\n",
        "\n",
        "    return tr_dl, val_dl, ts_dl, dataset.cls_names\n",
        "\n",
        "# ----------------------\n",
        "# ✅ Lightweight CNN with Adaptive Pooling\n",
        "# ----------------------\n",
        "class SmallCNN(nn.Module):\n",
        "    def __init__(self, num_classes):\n",
        "        super().__init__()\n",
        "        self.conv1 = nn.Conv2d(3, 16, kernel_size=3, padding=1)\n",
        "        self.conv2 = nn.Conv2d(16, 32, kernel_size=3, padding=1)\n",
        "        self.pool = nn.MaxPool2d(2, 2)\n",
        "        self.dropout = nn.Dropout(0.25)\n",
        "        self.adaptive_pool = nn.AdaptiveAvgPool2d((4, 4))\n",
        "        self.fc1 = nn.Linear(32 * 4 * 4, 64)\n",
        "        self.fc_cls = nn.Linear(64, num_classes)\n",
        "        self.fc_spoof = nn.Linear(64, 2)\n",
        "\n",
        "    def forward(self, x):\n",
        "        x = self.pool(F.relu(self.conv1(x)))\n",
        "        x = self.pool(F.relu(self.conv2(x)))\n",
        "        x = self.dropout(x)\n",
        "        x = self.adaptive_pool(x)\n",
        "        x = torch.flatten(x, 1)\n",
        "        x = F.relu(self.fc1(x))\n",
        "        cls_out = self.fc_cls(x)\n",
        "        spoof_out = self.fc_spoof(x)\n",
        "        return cls_out, spoof_out\n",
        "\n",
        "# ----------------------\n",
        "# ✅ Training Function\n",
        "# ----------------------\n",
        "def train_model(model, train_loader, criterion_cls, criterion_spoof, optimizer, device, epochs=3):\n",
        "    model.to(device)\n",
        "\n",
        "    for epoch in range(epochs):\n",
        "        model.train()\n",
        "        total_loss, correct_cls, correct_spoof, total = 0.0, 0, 0, 0\n",
        "\n",
        "        for imgs, labels, spoof_labels in tqdm(train_loader, desc=f\"Epoch {epoch+1}/{epochs} - Training\"):\n",
        "            imgs, labels, spoof_labels = imgs.to(device), labels.to(device), spoof_labels.to(device)\n",
        "            optimizer.zero_grad()\n",
        "            out_cls, out_spoof = model(imgs)\n",
        "\n",
        "            loss_cls = criterion_cls(out_cls, labels)\n",
        "            loss_spoof = criterion_spoof(out_spoof, spoof_labels)\n",
        "            loss = loss_cls + 0.5 * loss_spoof\n",
        "            loss.backward()\n",
        "            optimizer.step()\n",
        "\n",
        "            total_loss += loss.item() * imgs.size(0)\n",
        "            correct_cls += (out_cls.argmax(1) == labels).sum().item()\n",
        "            correct_spoof += (out_spoof.argmax(1) == spoof_labels).sum().item()\n",
        "            total += labels.size(0)\n",
        "\n",
        "        train_acc_cls = correct_cls / total\n",
        "        train_acc_spoof = correct_spoof / total\n",
        "        print(f\"Epoch {epoch+1}, Loss: {total_loss/total:.4f}, Cls Acc: {train_acc_cls:.4f}, Spoof Acc: {train_acc_spoof:.4f}\")\n",
        "\n",
        "# ----------------------\n",
        "# ✅ Main Script Execution\n",
        "# ----------------------\n",
        "if __name__ == \"__main__\":\n",
        "    root = r\"C:\\Users\\posha\\OneDrive\\Malpractices\\archive\\ExamCheatingDataset\"\n",
        "    mean, std, im_size = [0.485, 0.456, 0.406], [0.229, 0.224, 0.225], 112  # Reduced image size\n",
        "\n",
        "    transform = T.Compose([\n",
        "        T.Resize((im_size, im_size)),\n",
        "        T.ToTensor(),\n",
        "        T.Normalize(mean, std)\n",
        "    ])\n",
        "\n",
        "    tr_dl, val_dl, ts_dl, classes = get_dls(root=root, transformations=transform, bs=4, ns=0)\n",
        "\n",
        "    print(f\"Train Batches: {len(tr_dl)}\")\n",
        "    print(f\"Val Batches: {len(val_dl)}\")\n",
        "    print(f\"Test Batches: {len(ts_dl)}\")\n",
        "    print(f\"Classes: {classes}\")\n",
        "\n",
        "    # Compute class weights\n",
        "    cls_counts = {v: 0 for v in range(len(classes))}\n",
        "    for idx in tr_dl.dataset.indices:\n",
        "        path = tr_dl.dataset.dataset.im_paths[idx]\n",
        "        class_name = os.path.basename(os.path.dirname(path))\n",
        "        cls_idx = tr_dl.dataset.dataset.cls_names[class_name]\n",
        "        cls_counts[cls_idx] += 1\n",
        "\n",
        "    all_labels = []\n",
        "    for cls_idx, count in cls_counts.items():\n",
        "        all_labels.extend([cls_idx] * count)\n",
        "\n",
        "    class_weights = compute_class_weight('balanced', classes=np.arange(len(classes)), y=all_labels)\n",
        "    weights_tensor = torch.tensor(class_weights, dtype=torch.float)\n",
        "\n",
        "    device = torch.device(\"cuda\" if torch.cuda.is_available() else \"cpu\")\n",
        "    model = SmallCNN(num_classes=len(classes))\n",
        "    criterion_cls = nn.CrossEntropyLoss(weight=weights_tensor.to(device))\n",
        "    criterion_spoof = nn.CrossEntropyLoss()\n",
        "    optimizer = torch.optim.Adam(model.parameters(), lr=3e-4)\n",
        "\n",
        "    train_model(model, tr_dl, criterion_cls, criterion_spoof, optimizer, device, epochs=5)\n",
        "\n",
        "    print(\"✅ Training Complete\")\n"
      ]
    },
    {
      "cell_type": "code",
      "execution_count": 16,
      "metadata": {
        "id": "_jRlUinckXGR"
      },
      "outputs": [],
      "source": [
        "torch.save(model, \"custom_cnn_full_model.pth\")\n"
      ]
    },
    {
      "cell_type": "code",
      "execution_count": 17,
      "metadata": {
        "colab": {
          "base_uri": "https://localhost:8080/",
          "height": 966
        },
        "id": "bzbE33zMtZ94",
        "outputId": "45368822-286a-4c82-cacf-c6d7037fe878"
      },
      "outputs": [
        {
          "name": "stderr",
          "output_type": "stream",
          "text": [
            "Testing: 100%|██████████| 38/38 [00:01<00:00, 22.69it/s]\n"
          ]
        },
        {
          "data": {
            "image/png": "[encoded data removed]",
            "text/plain": [
              "<Figure size 800x600 with 2 Axes>"
            ]
          },
          "metadata": {},
          "output_type": "display_data"
        },
        {
          "name": "stdout",
          "output_type": "stream",
          "text": [
            "\n",
            "Classification Report:\n",
            "\n",
            "                precision    recall  f1-score   support\n",
            "\n",
            "      cheating       0.00      0.00      0.00         3\n",
            "   giving code       0.83      1.00      0.91        29\n",
            " giving object       0.00      0.00      0.00         2\n",
            "looking friend       0.93      0.97      0.95        58\n",
            "    normal act       0.94      0.85      0.89        59\n",
            "\n",
            "      accuracy                           0.89       151\n",
            "     macro avg       0.54      0.56      0.55       151\n",
            "  weighted avg       0.89      0.89      0.89       151\n",
            "\n"
          ]
        },
        {
          "name": "stderr",
          "output_type": "stream",
          "text": [
            "c:\\Users\\posha\\OneDrive\\Malpractices\\myenv\\Lib\\site-packages\\sklearn\\metrics\\_classification.py:1731: UndefinedMetricWarning: Precision is ill-defined and being set to 0.0 in labels with no predicted samples. Use `zero_division` parameter to control this behavior.\n",
            "  _warn_prf(average, modifier, f\"{metric.capitalize()} is\", result.shape[0])\n",
            "c:\\Users\\posha\\OneDrive\\Malpractices\\myenv\\Lib\\site-packages\\sklearn\\metrics\\_classification.py:1731: UndefinedMetricWarning: Precision is ill-defined and being set to 0.0 in labels with no predicted samples. Use `zero_division` parameter to control this behavior.\n",
            "  _warn_prf(average, modifier, f\"{metric.capitalize()} is\", result.shape[0])\n",
            "c:\\Users\\posha\\OneDrive\\Malpractices\\myenv\\Lib\\site-packages\\sklearn\\metrics\\_classification.py:1731: UndefinedMetricWarning: Precision is ill-defined and being set to 0.0 in labels with no predicted samples. Use `zero_division` parameter to control this behavior.\n",
            "  _warn_prf(average, modifier, f\"{metric.capitalize()} is\", result.shape[0])\n"
          ]
        }
      ],
      "source": [
        "from sklearn.metrics import classification_report, confusion_matrix\n",
        "import seaborn as sns\n",
        "import matplotlib.pyplot as plt\n",
        "import numpy as np\n",
        "from tqdm import tqdm\n",
        "\n",
        "def evaluate_model(model, loader, class_dict, device):\n",
        "    model.eval()\n",
        "    all_preds, all_labels = [], []\n",
        "\n",
        "    with torch.no_grad():\n",
        "        for images, labels, _ in tqdm(loader, desc=\"Testing\"):  # ✅ FIXED: unpack 3 values\n",
        "            images = images.to(device)\n",
        "            labels = labels.to(device)\n",
        "\n",
        "            cls_outputs, _ = model(images)  # ✅ model returns (cls_out, spoof_out)\n",
        "            preds = cls_outputs.argmax(1)\n",
        "\n",
        "            all_preds.extend(preds.cpu().numpy())\n",
        "            all_labels.extend(labels.cpu().numpy())\n",
        "\n",
        "    # Confusion matrix\n",
        "    cm = confusion_matrix(all_labels, all_preds)\n",
        "    class_names = list(class_dict.keys())\n",
        "\n",
        "    plt.figure(figsize=(8,6))\n",
        "    sns.heatmap(cm, annot=True, fmt=\"d\", xticklabels=class_names, yticklabels=class_names, cmap=\"Blues\")\n",
        "    plt.xlabel(\"Predicted\")\n",
        "    plt.ylabel(\"Actual\")\n",
        "    plt.title(\"Confusion Matrix\")\n",
        "    plt.show()\n",
        "\n",
        "    print(\"\\nClassification Report:\\n\")\n",
        "    print(classification_report(all_labels, all_preds, target_names=class_names))\n",
        "\n",
        "# ✅ Run Evaluation\n",
        "evaluate_model(model, val_dl, classes, device)\n"
      ]
    },
    {
      "cell_type": "code",
      "execution_count": 18,
      "metadata": {},
      "outputs": [
        {
          "name": "stdout",
          "output_type": "stream",
          "text": [
            "Requirement already satisfied: seaborn in c:\\users\\posha\\onedrive\\malpractices\\myenv\\lib\\site-packages (0.13.2)\n",
            "Requirement already satisfied: numpy!=1.24.0,>=1.20 in c:\\users\\posha\\onedrive\\malpractices\\myenv\\lib\\site-packages (from seaborn) (2.1.3)\n",
            "Requirement already satisfied: pandas>=1.2 in c:\\users\\posha\\onedrive\\malpractices\\myenv\\lib\\site-packages (from seaborn) (2.3.1)\n",
            "Requirement already satisfied: matplotlib!=3.6.1,>=3.4 in c:\\users\\posha\\onedrive\\malpractices\\myenv\\lib\\site-packages (from seaborn) (3.10.5)\n",
            "Requirement already satisfied: contourpy>=1.0.1 in c:\\users\\posha\\onedrive\\malpractices\\myenv\\lib\\site-packages (from matplotlib!=3.6.1,>=3.4->seaborn) (1.3.3)\n",
            "Requirement already satisfied: cycler>=0.10 in c:\\users\\posha\\onedrive\\malpractices\\myenv\\lib\\site-packages (from matplotlib!=3.6.1,>=3.4->seaborn) (0.12.1)\n",
            "Requirement already satisfied: fonttools>=4.22.0 in c:\\users\\posha\\onedrive\\malpractices\\myenv\\lib\\site-packages (from matplotlib!=3.6.1,>=3.4->seaborn) (4.59.0)\n",
            "Requirement already satisfied: kiwisolver>=1.3.1 in c:\\users\\posha\\onedrive\\malpractices\\myenv\\lib\\site-packages (from matplotlib!=3.6.1,>=3.4->seaborn) (1.4.8)\n",
            "Requirement already satisfied: packaging>=20.0 in c:\\users\\posha\\onedrive\\malpractices\\myenv\\lib\\site-packages (from matplotlib!=3.6.1,>=3.4->seaborn) (25.0)\n",
            "Requirement already satisfied: pillow>=8 in c:\\users\\posha\\onedrive\\malpractices\\myenv\\lib\\site-packages (from matplotlib!=3.6.1,>=3.4->seaborn) (11.3.0)\n",
            "Requirement already satisfied: pyparsing>=2.3.1 in c:\\users\\posha\\onedrive\\malpractices\\myenv\\lib\\site-packages (from matplotlib!=3.6.1,>=3.4->seaborn) (3.2.3)\n",
            "Requirement already satisfied: python-dateutil>=2.7 in c:\\users\\posha\\onedrive\\malpractices\\myenv\\lib\\site-packages (from matplotlib!=3.6.1,>=3.4->seaborn) (2.9.0.post0)\n",
            "Requirement already satisfied: pytz>=2020.1 in c:\\users\\posha\\onedrive\\malpractices\\myenv\\lib\\site-packages (from pandas>=1.2->seaborn) (2025.2)\n",
            "Requirement already satisfied: tzdata>=2022.7 in c:\\users\\posha\\onedrive\\malpractices\\myenv\\lib\\site-packages (from pandas>=1.2->seaborn) (2025.2)\n",
            "Requirement already satisfied: six>=1.5 in c:\\users\\posha\\onedrive\\malpractices\\myenv\\lib\\site-packages (from python-dateutil>=2.7->matplotlib!=3.6.1,>=3.4->seaborn) (1.17.0)\n"
          ]
        }
      ],
      "source": [
        "!pip install seaborn\n"
      ]
    },
    {
      "cell_type": "code",
      "execution_count": 19,
      "metadata": {},
      "outputs": [],
      "source": [
        "import seaborn as sns\n",
        "import matplotlib.pyplot as plt\n",
        "import numpy as np\n"
      ]
    },
    {
      "cell_type": "code",
      "execution_count": 20,
      "metadata": {
        "id": "DEEj6FDiuvqm"
      },
      "outputs": [],
      "source": [
        "import pandas as pd\n",
        "from tqdm import tqdm\n",
        "\n",
        "def predict_on_test(model, test_loader, class_dict, device, save_path=\"test_predictions_with_spoof.csv\"):\n",
        "    model.eval()\n",
        "    results = []\n",
        "\n",
        "    idx_to_class = {v: k for k, v in class_dict.items()}  # map index → class name\n",
        "\n",
        "    with torch.no_grad():\n",
        "        for images, paths in tqdm(test_loader, desc=\"Predicting\"):\n",
        "            images = images.to(device)\n",
        "\n",
        "            # Model returns (cls_output, spoof_output)\n",
        "            cls_outputs, spoof_outputs = model(images)\n",
        "\n",
        "            # Predicted class index & class name\n",
        "            preds = cls_outputs.argmax(1).cpu().numpy()\n",
        "\n",
        "            # Spoof confidence score (Probability of being Spoof)\n",
        "            spoof_probs = torch.softmax(spoof_outputs, dim=1)[:, 1].cpu().numpy()  # spoof_label index=1\n",
        "\n",
        "            for path, pred, spoof_score in zip(paths, preds, spoof_probs):\n",
        "                results.append({\n",
        "                    \"image_path\": path,\n",
        "                    \"predicted_class\": idx_to_class[pred],\n",
        "                    \"predicted_index\": int(pred),\n",
        "                    \"spoof_confidence\": float(spoof_score)  # Between 0 to 1\n",
        "                })\n",
        "\n",
        "    df = pd.DataFrame(results)\n",
        "    df.to_csv(save_path, index=False)\n",
        "    print(f\"✅ Predictions with Anti-Spoofing Scores saved to {save_path}\")\n",
        "    return df\n"
      ]
    },
    {
      "cell_type": "code",
      "execution_count": 21,
      "metadata": {
        "colab": {
          "base_uri": "https://localhost:8080/"
        },
        "id": "FvgUiHVxuycV",
        "outputId": "e1aebfe2-15d4-4610-b57d-8f2051c6089e"
      },
      "outputs": [
        {
          "name": "stderr",
          "output_type": "stream",
          "text": [
            "Predicting: 100%|██████████| 496/496 [00:15<00:00, 32.22it/s]"
          ]
        },
        {
          "name": "stdout",
          "output_type": "stream",
          "text": [
            "✅ Predictions with Anti-Spoofing Scores saved to test_predictions_with_spoof.csv\n"
          ]
        },
        {
          "name": "stderr",
          "output_type": "stream",
          "text": [
            "\n"
          ]
        },
        {
          "data": {
            "text/html": [
              "<div>\n",
              "<style scoped>\n",
              "    .dataframe tbody tr th:only-of-type {\n",
              "        vertical-align: middle;\n",
              "    }\n",
              "\n",
              "    .dataframe tbody tr th {\n",
              "        vertical-align: top;\n",
              "    }\n",
              "\n",
              "    .dataframe thead th {\n",
              "        text-align: right;\n",
              "    }\n",
              "</style>\n",
              "<table border=\"1\" class=\"dataframe\">\n",
              "  <thead>\n",
              "    <tr style=\"text-align: right;\">\n",
              "      <th></th>\n",
              "      <th>image_path</th>\n",
              "      <th>predicted_class</th>\n",
              "      <th>predicted_index</th>\n",
              "      <th>spoof_confidence</th>\n",
              "    </tr>\n",
              "  </thead>\n",
              "  <tbody>\n",
              "    <tr>\n",
              "      <th>0</th>\n",
              "      <td>C:\\Users\\posha\\OneDrive\\Malpractices\\archive\\E...</td>\n",
              "      <td>cheating</td>\n",
              "      <td>0</td>\n",
              "      <td>0.250312</td>\n",
              "    </tr>\n",
              "    <tr>\n",
              "      <th>1</th>\n",
              "      <td>C:\\Users\\posha\\OneDrive\\Malpractices\\archive\\E...</td>\n",
              "      <td>cheating</td>\n",
              "      <td>0</td>\n",
              "      <td>0.933924</td>\n",
              "    </tr>\n",
              "    <tr>\n",
              "      <th>2</th>\n",
              "      <td>C:\\Users\\posha\\OneDrive\\Malpractices\\archive\\E...</td>\n",
              "      <td>cheating</td>\n",
              "      <td>0</td>\n",
              "      <td>0.839507</td>\n",
              "    </tr>\n",
              "    <tr>\n",
              "      <th>3</th>\n",
              "      <td>C:\\Users\\posha\\OneDrive\\Malpractices\\archive\\E...</td>\n",
              "      <td>cheating</td>\n",
              "      <td>0</td>\n",
              "      <td>0.839208</td>\n",
              "    </tr>\n",
              "    <tr>\n",
              "      <th>4</th>\n",
              "      <td>C:\\Users\\posha\\OneDrive\\Malpractices\\archive\\E...</td>\n",
              "      <td>cheating</td>\n",
              "      <td>0</td>\n",
              "      <td>0.664523</td>\n",
              "    </tr>\n",
              "  </tbody>\n",
              "</table>\n",
              "</div>"
            ],
            "text/plain": [
              "                                          image_path predicted_class  \\\n",
              "0  C:\\Users\\posha\\OneDrive\\Malpractices\\archive\\E...        cheating   \n",
              "1  C:\\Users\\posha\\OneDrive\\Malpractices\\archive\\E...        cheating   \n",
              "2  C:\\Users\\posha\\OneDrive\\Malpractices\\archive\\E...        cheating   \n",
              "3  C:\\Users\\posha\\OneDrive\\Malpractices\\archive\\E...        cheating   \n",
              "4  C:\\Users\\posha\\OneDrive\\Malpractices\\archive\\E...        cheating   \n",
              "\n",
              "   predicted_index  spoof_confidence  \n",
              "0                0          0.250312  \n",
              "1                0          0.933924  \n",
              "2                0          0.839507  \n",
              "3                0          0.839208  \n",
              "4                0          0.664523  "
            ]
          },
          "execution_count": 21,
          "metadata": {},
          "output_type": "execute_result"
        }
      ],
      "source": [
        "# Run Inference with Spoofing Score\n",
        "predict_df = predict_on_test(model, ts_dl, classes, device)\n",
        "predict_df.head()\n"
      ]
    },
    {
      "cell_type": "code",
      "execution_count": 22,
      "metadata": {},
      "outputs": [
        {
          "name": "stdout",
          "output_type": "stream",
          "text": [
            "Requirement already satisfied: tensorflow in c:\\users\\posha\\onedrive\\malpractices\\myenv\\lib\\site-packages (2.19.0)\n",
            "Requirement already satisfied: absl-py>=1.0.0 in c:\\users\\posha\\onedrive\\malpractices\\myenv\\lib\\site-packages (from tensorflow) (2.3.1)\n",
            "Requirement already satisfied: astunparse>=1.6.0 in c:\\users\\posha\\onedrive\\malpractices\\myenv\\lib\\site-packages (from tensorflow) (1.6.3)\n",
            "Requirement already satisfied: flatbuffers>=24.3.25 in c:\\users\\posha\\onedrive\\malpractices\\myenv\\lib\\site-packages (from tensorflow) (25.2.10)\n",
            "Requirement already satisfied: gast!=0.5.0,!=0.5.1,!=0.5.2,>=0.2.1 in c:\\users\\posha\\onedrive\\malpractices\\myenv\\lib\\site-packages (from tensorflow) (0.6.0)\n",
            "Requirement already satisfied: google-pasta>=0.1.1 in c:\\users\\posha\\onedrive\\malpractices\\myenv\\lib\\site-packages (from tensorflow) (0.2.0)\n",
            "Requirement already satisfied: libclang>=13.0.0 in c:\\users\\posha\\onedrive\\malpractices\\myenv\\lib\\site-packages (from tensorflow) (18.1.1)\n",
            "Requirement already satisfied: opt-einsum>=2.3.2 in c:\\users\\posha\\onedrive\\malpractices\\myenv\\lib\\site-packages (from tensorflow) (3.4.0)\n",
            "Requirement already satisfied: packaging in c:\\users\\posha\\onedrive\\malpractices\\myenv\\lib\\site-packages (from tensorflow) (25.0)\n",
            "Requirement already satisfied: protobuf!=4.21.0,!=4.21.1,!=4.21.2,!=4.21.3,!=4.21.4,!=4.21.5,<6.0.0dev,>=3.20.3 in c:\\users\\posha\\onedrive\\malpractices\\myenv\\lib\\site-packages (from tensorflow) (4.25.8)\n",
            "Requirement already satisfied: requests<3,>=2.21.0 in c:\\users\\posha\\onedrive\\malpractices\\myenv\\lib\\site-packages (from tensorflow) (2.32.4)\n",
            "Requirement already satisfied: setuptools in c:\\users\\posha\\onedrive\\malpractices\\myenv\\lib\\site-packages (from tensorflow) (80.9.0)\n",
            "Requirement already satisfied: six>=1.12.0 in c:\\users\\posha\\onedrive\\malpractices\\myenv\\lib\\site-packages (from tensorflow) (1.17.0)\n",
            "Requirement already satisfied: termcolor>=1.1.0 in c:\\users\\posha\\onedrive\\malpractices\\myenv\\lib\\site-packages (from tensorflow) (3.1.0)\n",
            "Requirement already satisfied: typing-extensions>=3.6.6 in c:\\users\\posha\\onedrive\\malpractices\\myenv\\lib\\site-packages (from tensorflow) (4.14.1)\n",
            "Requirement already satisfied: wrapt>=1.11.0 in c:\\users\\posha\\onedrive\\malpractices\\myenv\\lib\\site-packages (from tensorflow) (1.17.2)\n",
            "Requirement already satisfied: grpcio<2.0,>=1.24.3 in c:\\users\\posha\\onedrive\\malpractices\\myenv\\lib\\site-packages (from tensorflow) (1.74.0)\n",
            "Requirement already satisfied: tensorboard~=2.19.0 in c:\\users\\posha\\onedrive\\malpractices\\myenv\\lib\\site-packages (from tensorflow) (2.19.0)\n",
            "Requirement already satisfied: keras>=3.5.0 in c:\\users\\posha\\onedrive\\malpractices\\myenv\\lib\\site-packages (from tensorflow) (3.11.1)\n",
            "Requirement already satisfied: numpy<2.2.0,>=1.26.0 in c:\\users\\posha\\onedrive\\malpractices\\myenv\\lib\\site-packages (from tensorflow) (2.1.3)\n",
            "Requirement already satisfied: h5py>=3.11.0 in c:\\users\\posha\\onedrive\\malpractices\\myenv\\lib\\site-packages (from tensorflow) (3.14.0)\n",
            "Requirement already satisfied: ml-dtypes<1.0.0,>=0.5.1 in c:\\users\\posha\\onedrive\\malpractices\\myenv\\lib\\site-packages (from tensorflow) (0.5.3)\n",
            "Requirement already satisfied: charset_normalizer<4,>=2 in c:\\users\\posha\\onedrive\\malpractices\\myenv\\lib\\site-packages (from requests<3,>=2.21.0->tensorflow) (3.4.2)\n",
            "Requirement already satisfied: idna<4,>=2.5 in c:\\users\\posha\\onedrive\\malpractices\\myenv\\lib\\site-packages (from requests<3,>=2.21.0->tensorflow) (3.10)\n",
            "Requirement already satisfied: urllib3<3,>=1.21.1 in c:\\users\\posha\\onedrive\\malpractices\\myenv\\lib\\site-packages (from requests<3,>=2.21.0->tensorflow) (2.5.0)\n",
            "Requirement already satisfied: certifi>=2017.4.17 in c:\\users\\posha\\onedrive\\malpractices\\myenv\\lib\\site-packages (from requests<3,>=2.21.0->tensorflow) (2025.8.3)\n",
            "Requirement already satisfied: markdown>=2.6.8 in c:\\users\\posha\\onedrive\\malpractices\\myenv\\lib\\site-packages (from tensorboard~=2.19.0->tensorflow) (3.8.2)\n",
            "Requirement already satisfied: tensorboard-data-server<0.8.0,>=0.7.0 in c:\\users\\posha\\onedrive\\malpractices\\myenv\\lib\\site-packages (from tensorboard~=2.19.0->tensorflow) (0.7.2)\n",
            "Requirement already satisfied: werkzeug>=1.0.1 in c:\\users\\posha\\onedrive\\malpractices\\myenv\\lib\\site-packages (from tensorboard~=2.19.0->tensorflow) (3.1.3)\n",
            "Requirement already satisfied: wheel<1.0,>=0.23.0 in c:\\users\\posha\\onedrive\\malpractices\\myenv\\lib\\site-packages (from astunparse>=1.6.0->tensorflow) (0.45.1)\n",
            "Requirement already satisfied: rich in c:\\users\\posha\\onedrive\\malpractices\\myenv\\lib\\site-packages (from keras>=3.5.0->tensorflow) (14.1.0)\n",
            "Requirement already satisfied: namex in c:\\users\\posha\\onedrive\\malpractices\\myenv\\lib\\site-packages (from keras>=3.5.0->tensorflow) (0.1.0)\n",
            "Requirement already satisfied: optree in c:\\users\\posha\\onedrive\\malpractices\\myenv\\lib\\site-packages (from keras>=3.5.0->tensorflow) (0.17.0)\n",
            "Requirement already satisfied: MarkupSafe>=2.1.1 in c:\\users\\posha\\onedrive\\malpractices\\myenv\\lib\\site-packages (from werkzeug>=1.0.1->tensorboard~=2.19.0->tensorflow) (3.0.2)\n",
            "Requirement already satisfied: markdown-it-py>=2.2.0 in c:\\users\\posha\\onedrive\\malpractices\\myenv\\lib\\site-packages (from rich->keras>=3.5.0->tensorflow) (3.0.0)\n",
            "Requirement already satisfied: pygments<3.0.0,>=2.13.0 in c:\\users\\posha\\onedrive\\malpractices\\myenv\\lib\\site-packages (from rich->keras>=3.5.0->tensorflow) (2.19.2)\n",
            "Requirement already satisfied: mdurl~=0.1 in c:\\users\\posha\\onedrive\\malpractices\\myenv\\lib\\site-packages (from markdown-it-py>=2.2.0->rich->keras>=3.5.0->tensorflow) (0.1.2)\n"
          ]
        }
      ],
      "source": [
        "!pip install tensorflow"
      ]
    },
    {
      "cell_type": "code",
      "execution_count": 23,
      "metadata": {},
      "outputs": [
        {
          "name": "stdout",
          "output_type": "stream",
          "text": [
            "Requirement already satisfied: pip in c:\\users\\posha\\onedrive\\malpractices\\myenv\\lib\\site-packages (25.2)\n"
          ]
        },
        {
          "name": "stderr",
          "output_type": "stream",
          "text": [
            "ERROR: Can not perform a '--user' install. User site-packages are not visible in this virtualenv.\n"
          ]
        }
      ],
      "source": [
        "!pip install --upgrade pip\n",
        "!pip install tensorflow --user"
      ]
    },
    {
      "cell_type": "code",
      "execution_count": 24,
      "metadata": {},
      "outputs": [
        {
          "name": "stdout",
          "output_type": "stream",
          "text": [
            "2.19.0\n"
          ]
        }
      ],
      "source": [
        "import tensorflow as tf\n",
        "print(tf.__version__)"
      ]
    },
    {
      "cell_type": "code",
      "execution_count": 25,
      "metadata": {},
      "outputs": [
        {
          "name": "stdout",
          "output_type": "stream",
          "text": [
            "Requirement already satisfied: opencv-python in c:\\users\\posha\\onedrive\\malpractices\\myenv\\lib\\site-packages (4.12.0.88)\n",
            "Requirement already satisfied: numpy<2.3.0,>=2 in c:\\users\\posha\\onedrive\\malpractices\\myenv\\lib\\site-packages (from opencv-python) (2.1.3)\n"
          ]
        }
      ],
      "source": [
        "!pip install opencv-python"
      ]
    },
    {
      "cell_type": "code",
      "execution_count": 26,
      "metadata": {},
      "outputs": [
        {
          "name": "stdout",
          "output_type": "stream",
          "text": [
            "4.11.0\n"
          ]
        }
      ],
      "source": [
        "import cv2\n",
        "print(cv2.__version__)"
      ]
    },
    {
      "cell_type": "code",
      "execution_count": 27,
      "metadata": {},
      "outputs": [
        {
          "name": "stdout",
          "output_type": "stream",
          "text": [
            "Requirement already satisfied: scikit-learn in c:\\users\\posha\\onedrive\\malpractices\\myenv\\lib\\site-packages (1.7.1)\n",
            "Requirement already satisfied: numpy>=1.22.0 in c:\\users\\posha\\onedrive\\malpractices\\myenv\\lib\\site-packages (from scikit-learn) (2.1.3)\n",
            "Requirement already satisfied: scipy>=1.8.0 in c:\\users\\posha\\onedrive\\malpractices\\myenv\\lib\\site-packages (from scikit-learn) (1.16.1)\n",
            "Requirement already satisfied: joblib>=1.2.0 in c:\\users\\posha\\onedrive\\malpractices\\myenv\\lib\\site-packages (from scikit-learn) (1.5.1)\n",
            "Requirement already satisfied: threadpoolctl>=3.1.0 in c:\\users\\posha\\onedrive\\malpractices\\myenv\\lib\\site-packages (from scikit-learn) (3.6.0)\n"
          ]
        }
      ],
      "source": [
        "!pip install scikit-learn"
      ]
    },
    {
      "cell_type": "code",
      "execution_count": 28,
      "metadata": {},
      "outputs": [],
      "source": [
        "from sklearn.model_selection import train_test_split"
      ]
    },
    {
      "cell_type": "code",
      "execution_count": 29,
      "metadata": {},
      "outputs": [
        {
          "name": "stdout",
          "output_type": "stream",
          "text": [
            "Requirement already satisfied: tensorflow in c:\\users\\posha\\onedrive\\malpractices\\myenv\\lib\\site-packages (2.19.0)\n",
            "Requirement already satisfied: absl-py>=1.0.0 in c:\\users\\posha\\onedrive\\malpractices\\myenv\\lib\\site-packages (from tensorflow) (2.3.1)\n",
            "Requirement already satisfied: astunparse>=1.6.0 in c:\\users\\posha\\onedrive\\malpractices\\myenv\\lib\\site-packages (from tensorflow) (1.6.3)\n",
            "Requirement already satisfied: flatbuffers>=24.3.25 in c:\\users\\posha\\onedrive\\malpractices\\myenv\\lib\\site-packages (from tensorflow) (25.2.10)\n",
            "Requirement already satisfied: gast!=0.5.0,!=0.5.1,!=0.5.2,>=0.2.1 in c:\\users\\posha\\onedrive\\malpractices\\myenv\\lib\\site-packages (from tensorflow) (0.6.0)\n",
            "Requirement already satisfied: google-pasta>=0.1.1 in c:\\users\\posha\\onedrive\\malpractices\\myenv\\lib\\site-packages (from tensorflow) (0.2.0)\n",
            "Requirement already satisfied: libclang>=13.0.0 in c:\\users\\posha\\onedrive\\malpractices\\myenv\\lib\\site-packages (from tensorflow) (18.1.1)\n",
            "Requirement already satisfied: opt-einsum>=2.3.2 in c:\\users\\posha\\onedrive\\malpractices\\myenv\\lib\\site-packages (from tensorflow) (3.4.0)\n",
            "Requirement already satisfied: packaging in c:\\users\\posha\\onedrive\\malpractices\\myenv\\lib\\site-packages (from tensorflow) (25.0)\n",
            "Requirement already satisfied: protobuf!=4.21.0,!=4.21.1,!=4.21.2,!=4.21.3,!=4.21.4,!=4.21.5,<6.0.0dev,>=3.20.3 in c:\\users\\posha\\onedrive\\malpractices\\myenv\\lib\\site-packages (from tensorflow) (4.25.8)\n",
            "Requirement already satisfied: requests<3,>=2.21.0 in c:\\users\\posha\\onedrive\\malpractices\\myenv\\lib\\site-packages (from tensorflow) (2.32.4)\n",
            "Requirement already satisfied: setuptools in c:\\users\\posha\\onedrive\\malpractices\\myenv\\lib\\site-packages (from tensorflow) (80.9.0)\n",
            "Requirement already satisfied: six>=1.12.0 in c:\\users\\posha\\onedrive\\malpractices\\myenv\\lib\\site-packages (from tensorflow) (1.17.0)\n",
            "Requirement already satisfied: termcolor>=1.1.0 in c:\\users\\posha\\onedrive\\malpractices\\myenv\\lib\\site-packages (from tensorflow) (3.1.0)\n",
            "Requirement already satisfied: typing-extensions>=3.6.6 in c:\\users\\posha\\onedrive\\malpractices\\myenv\\lib\\site-packages (from tensorflow) (4.14.1)\n",
            "Requirement already satisfied: wrapt>=1.11.0 in c:\\users\\posha\\onedrive\\malpractices\\myenv\\lib\\site-packages (from tensorflow) (1.17.2)\n",
            "Requirement already satisfied: grpcio<2.0,>=1.24.3 in c:\\users\\posha\\onedrive\\malpractices\\myenv\\lib\\site-packages (from tensorflow) (1.74.0)\n",
            "Requirement already satisfied: tensorboard~=2.19.0 in c:\\users\\posha\\onedrive\\malpractices\\myenv\\lib\\site-packages (from tensorflow) (2.19.0)\n",
            "Requirement already satisfied: keras>=3.5.0 in c:\\users\\posha\\onedrive\\malpractices\\myenv\\lib\\site-packages (from tensorflow) (3.11.1)\n",
            "Requirement already satisfied: numpy<2.2.0,>=1.26.0 in c:\\users\\posha\\onedrive\\malpractices\\myenv\\lib\\site-packages (from tensorflow) (2.1.3)\n",
            "Requirement already satisfied: h5py>=3.11.0 in c:\\users\\posha\\onedrive\\malpractices\\myenv\\lib\\site-packages (from tensorflow) (3.14.0)\n",
            "Requirement already satisfied: ml-dtypes<1.0.0,>=0.5.1 in c:\\users\\posha\\onedrive\\malpractices\\myenv\\lib\\site-packages (from tensorflow) (0.5.3)\n",
            "Requirement already satisfied: charset_normalizer<4,>=2 in c:\\users\\posha\\onedrive\\malpractices\\myenv\\lib\\site-packages (from requests<3,>=2.21.0->tensorflow) (3.4.2)\n",
            "Requirement already satisfied: idna<4,>=2.5 in c:\\users\\posha\\onedrive\\malpractices\\myenv\\lib\\site-packages (from requests<3,>=2.21.0->tensorflow) (3.10)\n",
            "Requirement already satisfied: urllib3<3,>=1.21.1 in c:\\users\\posha\\onedrive\\malpractices\\myenv\\lib\\site-packages (from requests<3,>=2.21.0->tensorflow) (2.5.0)\n",
            "Requirement already satisfied: certifi>=2017.4.17 in c:\\users\\posha\\onedrive\\malpractices\\myenv\\lib\\site-packages (from requests<3,>=2.21.0->tensorflow) (2025.8.3)\n",
            "Requirement already satisfied: markdown>=2.6.8 in c:\\users\\posha\\onedrive\\malpractices\\myenv\\lib\\site-packages (from tensorboard~=2.19.0->tensorflow) (3.8.2)\n",
            "Requirement already satisfied: tensorboard-data-server<0.8.0,>=0.7.0 in c:\\users\\posha\\onedrive\\malpractices\\myenv\\lib\\site-packages (from tensorboard~=2.19.0->tensorflow) (0.7.2)\n",
            "Requirement already satisfied: werkzeug>=1.0.1 in c:\\users\\posha\\onedrive\\malpractices\\myenv\\lib\\site-packages (from tensorboard~=2.19.0->tensorflow) (3.1.3)\n",
            "Requirement already satisfied: wheel<1.0,>=0.23.0 in c:\\users\\posha\\onedrive\\malpractices\\myenv\\lib\\site-packages (from astunparse>=1.6.0->tensorflow) (0.45.1)\n",
            "Requirement already satisfied: rich in c:\\users\\posha\\onedrive\\malpractices\\myenv\\lib\\site-packages (from keras>=3.5.0->tensorflow) (14.1.0)\n",
            "Requirement already satisfied: namex in c:\\users\\posha\\onedrive\\malpractices\\myenv\\lib\\site-packages (from keras>=3.5.0->tensorflow) (0.1.0)\n",
            "Requirement already satisfied: optree in c:\\users\\posha\\onedrive\\malpractices\\myenv\\lib\\site-packages (from keras>=3.5.0->tensorflow) (0.17.0)\n",
            "Requirement already satisfied: MarkupSafe>=2.1.1 in c:\\users\\posha\\onedrive\\malpractices\\myenv\\lib\\site-packages (from werkzeug>=1.0.1->tensorboard~=2.19.0->tensorflow) (3.0.2)\n",
            "Requirement already satisfied: markdown-it-py>=2.2.0 in c:\\users\\posha\\onedrive\\malpractices\\myenv\\lib\\site-packages (from rich->keras>=3.5.0->tensorflow) (3.0.0)\n",
            "Requirement already satisfied: pygments<3.0.0,>=2.13.0 in c:\\users\\posha\\onedrive\\malpractices\\myenv\\lib\\site-packages (from rich->keras>=3.5.0->tensorflow) (2.19.2)\n",
            "Requirement already satisfied: mdurl~=0.1 in c:\\users\\posha\\onedrive\\malpractices\\myenv\\lib\\site-packages (from markdown-it-py>=2.2.0->rich->keras>=3.5.0->tensorflow) (0.1.2)\n"
          ]
        }
      ],
      "source": [
        "!pip install tensorflow"
      ]
    },
    {
      "cell_type": "code",
      "execution_count": 40,
      "metadata": {},
      "outputs": [
        {
          "name": "stdout",
          "output_type": "stream",
          "text": [
            "Classes found: ['cheating', 'giving code', 'giving object', 'looking friend', 'normal act']\n",
            "Processing class 'cheating' (label 0)\n",
            "Processing class 'giving code' (label 1)\n",
            "Processing class 'giving object' (label 2)\n",
            "Processing class 'looking friend' (label 3)\n",
            "Processing class 'normal act' (label 4)\n",
            "✅ Loaded 1562 images in total.\n"
          ]
        },
        {
          "name": "stderr",
          "output_type": "stream",
          "text": [
            "c:\\Users\\posha\\OneDrive\\Malpractices\\myenv\\Lib\\site-packages\\keras\\src\\layers\\convolutional\\base_conv.py:113: UserWarning: Do not pass an `input_shape`/`input_dim` argument to a layer. When using Sequential models, prefer using an `Input(shape)` object as the first layer in the model instead.\n",
            "  super().__init__(activity_regularizer=activity_regularizer, **kwargs)\n"
          ]
        },
        {
          "name": "stdout",
          "output_type": "stream",
          "text": [
            "Training started...\n",
            "Epoch 1/10\n",
            "\u001b[1m40/40\u001b[0m \u001b[32m━━━━━━━━━━━━━━━━━━━━\u001b[0m\u001b[37m\u001b[0m \u001b[1m32s\u001b[0m 535ms/step - accuracy: 0.5685 - loss: 1.1883 - val_accuracy: 0.8626 - val_loss: 0.4897\n",
            "Epoch 2/10\n",
            "\u001b[1m40/40\u001b[0m \u001b[32m━━━━━━━━━━━━━━━━━━━━\u001b[0m\u001b[37m\u001b[0m \u001b[1m19s\u001b[0m 486ms/step - accuracy: 0.8575 - loss: 0.3986 - val_accuracy: 0.9137 - val_loss: 0.2442\n",
            "Epoch 3/10\n",
            "\u001b[1m40/40\u001b[0m \u001b[32m━━━━━━━━━━━━━━━━━━━━\u001b[0m\u001b[37m\u001b[0m \u001b[1m16s\u001b[0m 380ms/step - accuracy: 0.9055 - loss: 0.2614 - val_accuracy: 0.9233 - val_loss: 0.2077\n",
            "Epoch 4/10\n",
            "\u001b[1m40/40\u001b[0m \u001b[32m━━━━━━━━━━━━━━━━━━━━\u001b[0m\u001b[37m\u001b[0m \u001b[1m18s\u001b[0m 441ms/step - accuracy: 0.9496 - loss: 0.1467 - val_accuracy: 0.9297 - val_loss: 0.1726\n",
            "Epoch 5/10\n",
            "\u001b[1m40/40\u001b[0m \u001b[32m━━━━━━━━━━━━━━━━━━━━\u001b[0m\u001b[37m\u001b[0m \u001b[1m16s\u001b[0m 401ms/step - accuracy: 0.9704 - loss: 0.0966 - val_accuracy: 0.9425 - val_loss: 0.1630\n",
            "Epoch 6/10\n",
            "\u001b[1m40/40\u001b[0m \u001b[32m━━━━━━━━━━━━━━━━━━━━\u001b[0m\u001b[37m\u001b[0m \u001b[1m13s\u001b[0m 322ms/step - accuracy: 0.9760 - loss: 0.0855 - val_accuracy: 0.9425 - val_loss: 0.1458\n",
            "Epoch 7/10\n",
            "\u001b[1m40/40\u001b[0m \u001b[32m━━━━━━━━━━━━━━━━━━━━\u001b[0m\u001b[37m\u001b[0m \u001b[1m15s\u001b[0m 386ms/step - accuracy: 0.9848 - loss: 0.0675 - val_accuracy: 0.9489 - val_loss: 0.1361\n",
            "Epoch 8/10\n",
            "\u001b[1m40/40\u001b[0m \u001b[32m━━━━━━━━━━━━━━━━━━━━\u001b[0m\u001b[37m\u001b[0m \u001b[1m21s\u001b[0m 392ms/step - accuracy: 0.9816 - loss: 0.0574 - val_accuracy: 0.9393 - val_loss: 0.1854\n",
            "Epoch 9/10\n",
            "\u001b[1m40/40\u001b[0m \u001b[32m━━━━━━━━━━━━━━━━━━━━\u001b[0m\u001b[37m\u001b[0m \u001b[1m15s\u001b[0m 385ms/step - accuracy: 0.9816 - loss: 0.0551 - val_accuracy: 0.9489 - val_loss: 0.1524\n",
            "Epoch 10/10\n",
            "\u001b[1m40/40\u001b[0m \u001b[32m━━━━━━━━━━━━━━━━━━━━\u001b[0m\u001b[37m\u001b[0m \u001b[1m13s\u001b[0m 333ms/step - accuracy: 0.9888 - loss: 0.0363 - val_accuracy: 0.9457 - val_loss: 0.1856\n",
            "Training complete.\n"
          ]
        },
        {
          "name": "stderr",
          "output_type": "stream",
          "text": [
            "WARNING:absl:You are saving your model as an HDF5 file via `model.save()` or `keras.saving.save_model(model)`. This file format is considered legacy. We recommend using instead the native Keras format, e.g. `model.save('my_model.keras')` or `keras.saving.save_model(model, 'my_model.keras')`. \n"
          ]
        },
        {
          "name": "stdout",
          "output_type": "stream",
          "text": [
            "Model saved to: C:\\Users\\posha\\OneDrive\\Malpractices\\cheating_detection_model.h5\n",
            "Class labels saved to: C:\\Users\\posha\\OneDrive\\Malpractices\\cheating_class_labels.txt\n"
          ]
        }
      ],
      "source": [
        "import os\n",
        "import numpy as np\n",
        "import cv2\n",
        "from sklearn.model_selection import train_test_split\n",
        "from tensorflow.keras.utils import to_categorical\n",
        "from tensorflow.keras.models import Sequential\n",
        "from tensorflow.keras.layers import Conv2D, MaxPooling2D, Flatten, Dense, Dropout\n",
        "\n",
        "# === Parameters ===\n",
        "img_size = 128\n",
        "data_dir = r\"C:\\Users\\posha\\OneDrive\\Malpractices\\archive\\ExamCheatingDataset\\train\"  # path to training images\n",
        "save_dir = r\"C:\\Users\\posha\\OneDrive\\Malpractices\"  # where to save the model and labels\n",
        "\n",
        "classes = sorted(os.listdir(data_dir))  \n",
        "X, y = [], []\n",
        "\n",
        "print(\"Classes found:\", classes)\n",
        "\n",
        "for idx, class_name in enumerate(classes):\n",
        "    class_path = os.path.join(data_dir, class_name)\n",
        "    if not os.path.isdir(class_path):\n",
        "        continue\n",
        "\n",
        "    print(f\"Processing class '{class_name}' (label {idx})\")\n",
        "\n",
        "    for img_name in os.listdir(class_path):\n",
        "        img_path = os.path.join(class_path, img_name)\n",
        "\n",
        "        # Only process valid image files\n",
        "        if not img_name.lower().endswith(('.png', '.jpg', '.jpeg')):\n",
        "            continue\n",
        "\n",
        "        try:\n",
        "            img = cv2.imread(img_path)\n",
        "            if img is None:\n",
        "                print(f\"Warning: Could not load image {img_path}\")\n",
        "                continue\n",
        "            img = cv2.resize(img, (img_size, img_size))\n",
        "            X.append(img)\n",
        "            y.append(idx)\n",
        "        except Exception as e:\n",
        "            print(f\"Error reading {img_path}: {e}\")\n",
        "\n",
        "# === Prepare data ===\n",
        "X = np.array(X) / 255.0  # Normalize\n",
        "if len(y) == 0:\n",
        "    raise ValueError(\"No valid images found!\")\n",
        "\n",
        "y = to_categorical(y)  # One-hot encode\n",
        "\n",
        "print(f\"✅ Loaded {len(X)} images in total.\")\n",
        "\n",
        "\n",
        "X_train, X_test, y_train, y_test = train_test_split(X, y, test_size=0.2, random_state=42)\n",
        "\n",
        "# === Build CNN model ===\n",
        "model = Sequential([\n",
        "    Conv2D(32, (3,3), activation='relu', input_shape=(img_size, img_size, 3)),\n",
        "    MaxPooling2D(2,2),\n",
        "\n",
        "    Conv2D(64, (3,3), activation='relu'),\n",
        "    MaxPooling2D(2,2),\n",
        "\n",
        "    Flatten(),\n",
        "    Dense(128, activation='relu'),\n",
        "    Dropout(0.4),\n",
        "    Dense(len(classes), activation='softmax')\n",
        "])\n",
        "\n",
        "model.compile(optimizer='adam', loss='categorical_crossentropy', metrics=['accuracy'])\n",
        "\n",
        "\n",
        "print(\"Training started...\")\n",
        "model.fit(X_train, y_train, epochs=10, validation_data=(X_test, y_test), batch_size=32)\n",
        "print(\"Training complete.\")\n",
        "\n",
        "\n",
        "model_path = os.path.join(save_dir, \"cheating_detection_model.h5\")\n",
        "label_path = os.path.join(save_dir, \"cheating_class_labels.txt\")\n",
        "\n",
        "model.save(model_path)\n",
        "with open(label_path, \"w\") as f:\n",
        "    f.write(\"\\n\".join(classes))\n",
        "\n",
        "print(f\"Model saved to: {model_path}\")\n",
        "print(f\"Class labels saved to: {label_path}\")\n"
      ]
    },
    {
      "cell_type": "code",
      "execution_count": 16,
      "metadata": {},
      "outputs": [
        {
          "name": "stderr",
          "output_type": "stream",
          "text": [
            "WARNING:absl:Compiled the loaded model, but the compiled metrics have yet to be built. `model.compile_metrics` will be empty until you train or evaluate the model.\n",
            "WARNING:absl:Compiled the loaded model, but the compiled metrics have yet to be built. `model.compile_metrics` will be empty until you train or evaluate the model.\n"
          ]
        },
        {
          "name": "stdout",
          "output_type": "stream",
          "text": [
            "Press 'q' to quit.\n",
            "\u001b[1m1/1\u001b[0m \u001b[32m━━━━━━━━━━━━━━━━━━━━\u001b[0m\u001b[37m\u001b[0m \u001b[1m1s\u001b[0m 643ms/step\n",
            "\u001b[1m1/1\u001b[0m \u001b[32m━━━━━━━━━━━━━━━━━━━━\u001b[0m\u001b[37m\u001b[0m \u001b[1m0s\u001b[0m 246ms/step\n",
            "\u001b[1m1/1\u001b[0m \u001b[32m━━━━━━━━━━━━━━━━━━━━\u001b[0m\u001b[37m\u001b[0m \u001b[1m0s\u001b[0m 145ms/step\n",
            "[MOVEMENT DETECTED] Frame Change: 18.24 → Simulated FAKE\n",
            "\u001b[1m1/1\u001b[0m \u001b[32m━━━━━━━━━━━━━━━━━━━━\u001b[0m\u001b[37m\u001b[0m \u001b[1m0s\u001b[0m 188ms/step\n",
            "\u001b[1m1/1\u001b[0m \u001b[32m━━━━━━━━━━━━━━━━━━━━\u001b[0m\u001b[37m\u001b[0m \u001b[1m0s\u001b[0m 148ms/step\n",
            "\u001b[1m1/1\u001b[0m \u001b[32m━━━━━━━━━━━━━━━━━━━━\u001b[0m\u001b[37m\u001b[0m \u001b[1m0s\u001b[0m 115ms/step\n",
            "\u001b[1m1/1\u001b[0m \u001b[32m━━━━━━━━━━━━━━━━━━━━\u001b[0m\u001b[37m\u001b[0m \u001b[1m0s\u001b[0m 98ms/step\n",
            "\u001b[1m1/1\u001b[0m \u001b[32m━━━━━━━━━━━━━━━━━━━━\u001b[0m\u001b[37m\u001b[0m \u001b[1m0s\u001b[0m 93ms/step\n",
            "\u001b[1m1/1\u001b[0m \u001b[32m━━━━━━━━━━━━━━━━━━━━\u001b[0m\u001b[37m\u001b[0m \u001b[1m0s\u001b[0m 111ms/step\n",
            "\u001b[1m1/1\u001b[0m \u001b[32m━━━━━━━━━━━━━━━━━━━━\u001b[0m\u001b[37m\u001b[0m \u001b[1m0s\u001b[0m 104ms/step\n",
            "\u001b[1m1/1\u001b[0m \u001b[32m━━━━━━━━━━━━━━━━━━━━\u001b[0m\u001b[37m\u001b[0m \u001b[1m0s\u001b[0m 60ms/step\n",
            "[MOVEMENT DETECTED] Frame Change: 13.90 → Simulated FAKE\n",
            "\u001b[1m1/1\u001b[0m \u001b[32m━━━━━━━━━━━━━━━━━━━━\u001b[0m\u001b[37m\u001b[0m \u001b[1m0s\u001b[0m 62ms/step\n",
            "\u001b[1m1/1\u001b[0m \u001b[32m━━━━━━━━━━━━━━━━━━━━\u001b[0m\u001b[37m\u001b[0m \u001b[1m0s\u001b[0m 97ms/step\n",
            "[MOVEMENT DETECTED] Frame Change: 17.55 → Simulated FAKE\n",
            "\u001b[1m1/1\u001b[0m \u001b[32m━━━━━━━━━━━━━━━━━━━━\u001b[0m\u001b[37m\u001b[0m \u001b[1m0s\u001b[0m 91ms/step\n",
            "\u001b[1m1/1\u001b[0m \u001b[32m━━━━━━━━━━━━━━━━━━━━\u001b[0m\u001b[37m\u001b[0m \u001b[1m0s\u001b[0m 82ms/step\n",
            "\u001b[1m1/1\u001b[0m \u001b[32m━━━━━━━━━━━━━━━━━━━━\u001b[0m\u001b[37m\u001b[0m \u001b[1m0s\u001b[0m 78ms/step\n",
            "\u001b[1m1/1\u001b[0m \u001b[32m━━━━━━━━━━━━━━━━━━━━\u001b[0m\u001b[37m\u001b[0m \u001b[1m0s\u001b[0m 76ms/step\n",
            "\u001b[1m1/1\u001b[0m \u001b[32m━━━━━━━━━━━━━━━━━━━━\u001b[0m\u001b[37m\u001b[0m \u001b[1m0s\u001b[0m 65ms/step\n",
            "\u001b[1m1/1\u001b[0m \u001b[32m━━━━━━━━━━━━━━━━━━━━\u001b[0m\u001b[37m\u001b[0m \u001b[1m0s\u001b[0m 95ms/step\n",
            "\u001b[1m1/1\u001b[0m \u001b[32m━━━━━━━━━━━━━━━━━━━━\u001b[0m\u001b[37m\u001b[0m \u001b[1m0s\u001b[0m 89ms/step\n",
            "\u001b[1m1/1\u001b[0m \u001b[32m━━━━━━━━━━━━━━━━━━━━\u001b[0m\u001b[37m\u001b[0m \u001b[1m0s\u001b[0m 74ms/step\n",
            "\u001b[1m1/1\u001b[0m \u001b[32m━━━━━━━━━━━━━━━━━━━━\u001b[0m\u001b[37m\u001b[0m \u001b[1m0s\u001b[0m 75ms/step\n",
            "\u001b[1m1/1\u001b[0m \u001b[32m━━━━━━━━━━━━━━━━━━━━\u001b[0m\u001b[37m\u001b[0m \u001b[1m0s\u001b[0m 67ms/step\n",
            "\u001b[1m1/1\u001b[0m \u001b[32m━━━━━━━━━━━━━━━━━━━━\u001b[0m\u001b[37m\u001b[0m \u001b[1m0s\u001b[0m 72ms/step\n",
            "\u001b[1m1/1\u001b[0m \u001b[32m━━━━━━━━━━━━━━━━━━━━\u001b[0m\u001b[37m\u001b[0m \u001b[1m0s\u001b[0m 91ms/step\n",
            "\u001b[1m1/1\u001b[0m \u001b[32m━━━━━━━━━━━━━━━━━━━━\u001b[0m\u001b[37m\u001b[0m \u001b[1m0s\u001b[0m 93ms/step\n",
            "\u001b[1m1/1\u001b[0m \u001b[32m━━━━━━━━━━━━━━━━━━━━\u001b[0m\u001b[37m\u001b[0m \u001b[1m0s\u001b[0m 96ms/step\n",
            "\u001b[1m1/1\u001b[0m \u001b[32m━━━━━━━━━━━━━━━━━━━━\u001b[0m\u001b[37m\u001b[0m \u001b[1m0s\u001b[0m 69ms/step\n",
            "\u001b[1m1/1\u001b[0m \u001b[32m━━━━━━━━━━━━━━━━━━━━\u001b[0m\u001b[37m\u001b[0m \u001b[1m0s\u001b[0m 57ms/step\n",
            "\u001b[1m1/1\u001b[0m \u001b[32m━━━━━━━━━━━━━━━━━━━━\u001b[0m\u001b[37m\u001b[0m \u001b[1m0s\u001b[0m 68ms/step\n",
            "\u001b[1m1/1\u001b[0m \u001b[32m━━━━━━━━━━━━━━━━━━━━\u001b[0m\u001b[37m\u001b[0m \u001b[1m0s\u001b[0m 95ms/step\n",
            "\u001b[1m1/1\u001b[0m \u001b[32m━━━━━━━━━━━━━━━━━━━━\u001b[0m\u001b[37m\u001b[0m \u001b[1m0s\u001b[0m 98ms/step\n",
            "\u001b[1m1/1\u001b[0m \u001b[32m━━━━━━━━━━━━━━━━━━━━\u001b[0m\u001b[37m\u001b[0m \u001b[1m0s\u001b[0m 68ms/step\n",
            "\u001b[1m1/1\u001b[0m \u001b[32m━━━━━━━━━━━━━━━━━━━━\u001b[0m\u001b[37m\u001b[0m \u001b[1m0s\u001b[0m 74ms/step\n",
            "\u001b[1m1/1\u001b[0m \u001b[32m━━━━━━━━━━━━━━━━━━━━\u001b[0m\u001b[37m\u001b[0m \u001b[1m0s\u001b[0m 94ms/step\n",
            "\u001b[1m1/1\u001b[0m \u001b[32m━━━━━━━━━━━━━━━━━━━━\u001b[0m\u001b[37m\u001b[0m \u001b[1m0s\u001b[0m 88ms/step\n",
            "\u001b[1m1/1\u001b[0m \u001b[32m━━━━━━━━━━━━━━━━━━━━\u001b[0m\u001b[37m\u001b[0m \u001b[1m0s\u001b[0m 75ms/step\n",
            "\u001b[1m1/1\u001b[0m \u001b[32m━━━━━━━━━━━━━━━━━━━━\u001b[0m\u001b[37m\u001b[0m \u001b[1m0s\u001b[0m 70ms/step\n",
            "\u001b[1m1/1\u001b[0m \u001b[32m━━━━━━━━━━━━━━━━━━━━\u001b[0m\u001b[37m\u001b[0m \u001b[1m0s\u001b[0m 68ms/step\n",
            "\u001b[1m1/1\u001b[0m \u001b[32m━━━━━━━━━━━━━━━━━━━━\u001b[0m\u001b[37m\u001b[0m \u001b[1m0s\u001b[0m 68ms/step\n",
            "\u001b[1m1/1\u001b[0m \u001b[32m━━━━━━━━━━━━━━━━━━━━\u001b[0m\u001b[37m\u001b[0m \u001b[1m0s\u001b[0m 63ms/step\n",
            "\u001b[1m1/1\u001b[0m \u001b[32m━━━━━━━━━━━━━━━━━━━━\u001b[0m\u001b[37m\u001b[0m \u001b[1m0s\u001b[0m 61ms/step\n",
            "\u001b[1m1/1\u001b[0m \u001b[32m━━━━━━━━━━━━━━━━━━━━\u001b[0m\u001b[37m\u001b[0m \u001b[1m0s\u001b[0m 91ms/step\n",
            "\u001b[1m1/1\u001b[0m \u001b[32m━━━━━━━━━━━━━━━━━━━━\u001b[0m\u001b[37m\u001b[0m \u001b[1m0s\u001b[0m 91ms/step\n",
            "\u001b[1m1/1\u001b[0m \u001b[32m━━━━━━━━━━━━━━━━━━━━\u001b[0m\u001b[37m\u001b[0m \u001b[1m0s\u001b[0m 87ms/step\n",
            "\u001b[1m1/1\u001b[0m \u001b[32m━━━━━━━━━━━━━━━━━━━━\u001b[0m\u001b[37m\u001b[0m \u001b[1m0s\u001b[0m 73ms/step\n",
            "\u001b[1m1/1\u001b[0m \u001b[32m━━━━━━━━━━━━━━━━━━━━\u001b[0m\u001b[37m\u001b[0m \u001b[1m0s\u001b[0m 86ms/step\n",
            "\u001b[1m1/1\u001b[0m \u001b[32m━━━━━━━━━━━━━━━━━━━━\u001b[0m\u001b[37m\u001b[0m \u001b[1m0s\u001b[0m 65ms/step\n",
            "\u001b[1m1/1\u001b[0m \u001b[32m━━━━━━━━━━━━━━━━━━━━\u001b[0m\u001b[37m\u001b[0m \u001b[1m0s\u001b[0m 83ms/step\n",
            "\u001b[1m1/1\u001b[0m \u001b[32m━━━━━━━━━━━━━━━━━━━━\u001b[0m\u001b[37m\u001b[0m \u001b[1m0s\u001b[0m 84ms/step\n",
            "\u001b[1m1/1\u001b[0m \u001b[32m━━━━━━━━━━━━━━━━━━━━\u001b[0m\u001b[37m\u001b[0m \u001b[1m0s\u001b[0m 77ms/step\n",
            "\u001b[1m1/1\u001b[0m \u001b[32m━━━━━━━━━━━━━━━━━━━━\u001b[0m\u001b[37m\u001b[0m \u001b[1m0s\u001b[0m 72ms/step\n",
            "\u001b[1m1/1\u001b[0m \u001b[32m━━━━━━━━━━━━━━━━━━━━\u001b[0m\u001b[37m\u001b[0m \u001b[1m0s\u001b[0m 71ms/step\n",
            "\u001b[1m1/1\u001b[0m \u001b[32m━━━━━━━━━━━━━━━━━━━━\u001b[0m\u001b[37m\u001b[0m \u001b[1m0s\u001b[0m 65ms/step\n",
            "\u001b[1m1/1\u001b[0m \u001b[32m━━━━━━━━━━━━━━━━━━━━\u001b[0m\u001b[37m\u001b[0m \u001b[1m0s\u001b[0m 79ms/step\n",
            "\u001b[1m1/1\u001b[0m \u001b[32m━━━━━━━━━━━━━━━━━━━━\u001b[0m\u001b[37m\u001b[0m \u001b[1m0s\u001b[0m 69ms/step\n",
            "\u001b[1m1/1\u001b[0m \u001b[32m━━━━━━━━━━━━━━━━━━━━\u001b[0m\u001b[37m\u001b[0m \u001b[1m0s\u001b[0m 81ms/step\n",
            "\u001b[1m1/1\u001b[0m \u001b[32m━━━━━━━━━━━━━━━━━━━━\u001b[0m\u001b[37m\u001b[0m \u001b[1m0s\u001b[0m 80ms/step\n",
            "\u001b[1m1/1\u001b[0m \u001b[32m━━━━━━━━━━━━━━━━━━━━\u001b[0m\u001b[37m\u001b[0m \u001b[1m0s\u001b[0m 75ms/step\n",
            "\u001b[1m1/1\u001b[0m \u001b[32m━━━━━━━━━━━━━━━━━━━━\u001b[0m\u001b[37m\u001b[0m \u001b[1m0s\u001b[0m 85ms/step\n",
            "\u001b[1m1/1\u001b[0m \u001b[32m━━━━━━━━━━━━━━━━━━━━\u001b[0m\u001b[37m\u001b[0m \u001b[1m0s\u001b[0m 70ms/step\n",
            "\u001b[1m1/1\u001b[0m \u001b[32m━━━━━━━━━━━━━━━━━━━━\u001b[0m\u001b[37m\u001b[0m \u001b[1m0s\u001b[0m 76ms/step\n",
            "\u001b[1m1/1\u001b[0m \u001b[32m━━━━━━━━━━━━━━━━━━━━\u001b[0m\u001b[37m\u001b[0m \u001b[1m0s\u001b[0m 76ms/step\n",
            "\u001b[1m1/1\u001b[0m \u001b[32m━━━━━━━━━━━━━━━━━━━━\u001b[0m\u001b[37m\u001b[0m \u001b[1m0s\u001b[0m 83ms/step\n",
            "\u001b[1m1/1\u001b[0m \u001b[32m━━━━━━━━━━━━━━━━━━━━\u001b[0m\u001b[37m\u001b[0m \u001b[1m0s\u001b[0m 67ms/step\n",
            "\u001b[1m1/1\u001b[0m \u001b[32m━━━━━━━━━━━━━━━━━━━━\u001b[0m\u001b[37m\u001b[0m \u001b[1m0s\u001b[0m 80ms/step\n",
            "\u001b[1m1/1\u001b[0m \u001b[32m━━━━━━━━━━━━━━━━━━━━\u001b[0m\u001b[37m\u001b[0m \u001b[1m0s\u001b[0m 107ms/step\n",
            "\u001b[1m1/1\u001b[0m \u001b[32m━━━━━━━━━━━━━━━━━━━━\u001b[0m\u001b[37m\u001b[0m \u001b[1m0s\u001b[0m 84ms/step\n",
            "\u001b[1m1/1\u001b[0m \u001b[32m━━━━━━━━━━━━━━━━━━━━\u001b[0m\u001b[37m\u001b[0m \u001b[1m0s\u001b[0m 85ms/step\n",
            "\u001b[1m1/1\u001b[0m \u001b[32m━━━━━━━━━━━━━━━━━━━━\u001b[0m\u001b[37m\u001b[0m \u001b[1m0s\u001b[0m 72ms/step\n",
            "\u001b[1m1/1\u001b[0m \u001b[32m━━━━━━━━━━━━━━━━━━━━\u001b[0m\u001b[37m\u001b[0m \u001b[1m0s\u001b[0m 82ms/step\n",
            "\u001b[1m1/1\u001b[0m \u001b[32m━━━━━━━━━━━━━━━━━━━━\u001b[0m\u001b[37m\u001b[0m \u001b[1m0s\u001b[0m 59ms/step\n",
            "\u001b[1m1/1\u001b[0m \u001b[32m━━━━━━━━━━━━━━━━━━━━\u001b[0m\u001b[37m\u001b[0m \u001b[1m0s\u001b[0m 72ms/step\n",
            "\u001b[1m1/1\u001b[0m \u001b[32m━━━━━━━━━━━━━━━━━━━━\u001b[0m\u001b[37m\u001b[0m \u001b[1m0s\u001b[0m 83ms/step\n",
            "\u001b[1m1/1\u001b[0m \u001b[32m━━━━━━━━━━━━━━━━━━━━\u001b[0m\u001b[37m\u001b[0m \u001b[1m0s\u001b[0m 104ms/step\n",
            "\u001b[1m1/1\u001b[0m \u001b[32m━━━━━━━━━━━━━━━━━━━━\u001b[0m\u001b[37m\u001b[0m \u001b[1m0s\u001b[0m 90ms/step\n",
            "\u001b[1m1/1\u001b[0m \u001b[32m━━━━━━━━━━━━━━━━━━━━\u001b[0m\u001b[37m\u001b[0m \u001b[1m0s\u001b[0m 75ms/step\n",
            "\u001b[1m1/1\u001b[0m \u001b[32m━━━━━━━━━━━━━━━━━━━━\u001b[0m\u001b[37m\u001b[0m \u001b[1m0s\u001b[0m 77ms/step\n",
            "\u001b[1m1/1\u001b[0m \u001b[32m━━━━━━━━━━━━━━━━━━━━\u001b[0m\u001b[37m\u001b[0m \u001b[1m0s\u001b[0m 84ms/step\n",
            "\u001b[1m1/1\u001b[0m \u001b[32m━━━━━━━━━━━━━━━━━━━━\u001b[0m\u001b[37m\u001b[0m \u001b[1m0s\u001b[0m 84ms/step\n",
            "\u001b[1m1/1\u001b[0m \u001b[32m━━━━━━━━━━━━━━━━━━━━\u001b[0m\u001b[37m\u001b[0m \u001b[1m0s\u001b[0m 86ms/step\n",
            "\u001b[1m1/1\u001b[0m \u001b[32m━━━━━━━━━━━━━━━━━━━━\u001b[0m\u001b[37m\u001b[0m \u001b[1m0s\u001b[0m 79ms/step\n",
            "\u001b[1m1/1\u001b[0m \u001b[32m━━━━━━━━━━━━━━━━━━━━\u001b[0m\u001b[37m\u001b[0m \u001b[1m0s\u001b[0m 76ms/step\n",
            "\u001b[1m1/1\u001b[0m \u001b[32m━━━━━━━━━━━━━━━━━━━━\u001b[0m\u001b[37m\u001b[0m \u001b[1m0s\u001b[0m 73ms/step\n",
            "\u001b[1m1/1\u001b[0m \u001b[32m━━━━━━━━━━━━━━━━━━━━\u001b[0m\u001b[37m\u001b[0m \u001b[1m0s\u001b[0m 82ms/step\n",
            "\u001b[1m1/1\u001b[0m \u001b[32m━━━━━━━━━━━━━━━━━━━━\u001b[0m\u001b[37m\u001b[0m \u001b[1m0s\u001b[0m 86ms/step\n",
            "\u001b[1m1/1\u001b[0m \u001b[32m━━━━━━━━━━━━━━━━━━━━\u001b[0m\u001b[37m\u001b[0m \u001b[1m0s\u001b[0m 78ms/step\n",
            "\u001b[1m1/1\u001b[0m \u001b[32m━━━━━━━━━━━━━━━━━━━━\u001b[0m\u001b[37m\u001b[0m \u001b[1m0s\u001b[0m 82ms/step\n",
            "\u001b[1m1/1\u001b[0m \u001b[32m━━━━━━━━━━━━━━━━━━━━\u001b[0m\u001b[37m\u001b[0m \u001b[1m0s\u001b[0m 87ms/step\n",
            "\u001b[1m1/1\u001b[0m \u001b[32m━━━━━━━━━━━━━━━━━━━━\u001b[0m\u001b[37m\u001b[0m \u001b[1m0s\u001b[0m 85ms/step\n",
            "\u001b[1m1/1\u001b[0m \u001b[32m━━━━━━━━━━━━━━━━━━━━\u001b[0m\u001b[37m\u001b[0m \u001b[1m0s\u001b[0m 72ms/step\n",
            "\u001b[1m1/1\u001b[0m \u001b[32m━━━━━━━━━━━━━━━━━━━━\u001b[0m\u001b[37m\u001b[0m \u001b[1m0s\u001b[0m 83ms/step\n",
            "\u001b[1m1/1\u001b[0m \u001b[32m━━━━━━━━━━━━━━━━━━━━\u001b[0m\u001b[37m\u001b[0m \u001b[1m0s\u001b[0m 84ms/step\n",
            "\u001b[1m1/1\u001b[0m \u001b[32m━━━━━━━━━━━━━━━━━━━━\u001b[0m\u001b[37m\u001b[0m \u001b[1m0s\u001b[0m 79ms/step\n",
            "\u001b[1m1/1\u001b[0m \u001b[32m━━━━━━━━━━━━━━━━━━━━\u001b[0m\u001b[37m\u001b[0m \u001b[1m0s\u001b[0m 85ms/step\n",
            "\u001b[1m1/1\u001b[0m \u001b[32m━━━━━━━━━━━━━━━━━━━━\u001b[0m\u001b[37m\u001b[0m \u001b[1m0s\u001b[0m 85ms/step\n",
            "\u001b[1m1/1\u001b[0m \u001b[32m━━━━━━━━━━━━━━━━━━━━\u001b[0m\u001b[37m\u001b[0m \u001b[1m0s\u001b[0m 73ms/step\n",
            "\u001b[1m1/1\u001b[0m \u001b[32m━━━━━━━━━━━━━━━━━━━━\u001b[0m\u001b[37m\u001b[0m \u001b[1m0s\u001b[0m 103ms/step\n",
            "\u001b[1m1/1\u001b[0m \u001b[32m━━━━━━━━━━━━━━━━━━━━\u001b[0m\u001b[37m\u001b[0m \u001b[1m0s\u001b[0m 82ms/step\n",
            "\u001b[1m1/1\u001b[0m \u001b[32m━━━━━━━━━━━━━━━━━━━━\u001b[0m\u001b[37m\u001b[0m \u001b[1m0s\u001b[0m 88ms/step\n",
            "\u001b[1m1/1\u001b[0m \u001b[32m━━━━━━━━━━━━━━━━━━━━\u001b[0m\u001b[37m\u001b[0m \u001b[1m0s\u001b[0m 82ms/step\n",
            "\u001b[1m1/1\u001b[0m \u001b[32m━━━━━━━━━━━━━━━━━━━━\u001b[0m\u001b[37m\u001b[0m \u001b[1m0s\u001b[0m 70ms/step\n",
            "\u001b[1m1/1\u001b[0m \u001b[32m━━━━━━━━━━━━━━━━━━━━\u001b[0m\u001b[37m\u001b[0m \u001b[1m0s\u001b[0m 56ms/step\n",
            "[MOVEMENT DETECTED] Frame Change: 14.33 → Simulated FAKE\n",
            "\u001b[1m1/1\u001b[0m \u001b[32m━━━━━━━━━━━━━━━━━━━━\u001b[0m\u001b[37m\u001b[0m \u001b[1m0s\u001b[0m 58ms/step\n",
            "\u001b[1m1/1\u001b[0m \u001b[32m━━━━━━━━━━━━━━━━━━━━\u001b[0m\u001b[37m\u001b[0m \u001b[1m0s\u001b[0m 70ms/step\n",
            "\u001b[1m1/1\u001b[0m \u001b[32m━━━━━━━━━━━━━━━━━━━━\u001b[0m\u001b[37m\u001b[0m \u001b[1m0s\u001b[0m 53ms/step\n",
            "[MOVEMENT DETECTED] Frame Change: 29.05 → Simulated FAKE\n",
            "\u001b[1m1/1\u001b[0m \u001b[32m━━━━━━━━━━━━━━━━━━━━\u001b[0m\u001b[37m\u001b[0m \u001b[1m0s\u001b[0m 63ms/step\n",
            "\u001b[1m1/1\u001b[0m \u001b[32m━━━━━━━━━━━━━━━━━━━━\u001b[0m\u001b[37m\u001b[0m \u001b[1m0s\u001b[0m 54ms/step\n",
            "[MOVEMENT DETECTED] Frame Change: 19.35 → Simulated FAKE\n",
            "\u001b[1m1/1\u001b[0m \u001b[32m━━━━━━━━━━━━━━━━━━━━\u001b[0m\u001b[37m\u001b[0m \u001b[1m0s\u001b[0m 60ms/step\n",
            "\u001b[1m1/1\u001b[0m \u001b[32m━━━━━━━━━━━━━━━━━━━━\u001b[0m\u001b[37m\u001b[0m \u001b[1m0s\u001b[0m 48ms/step\n",
            "[MOVEMENT DETECTED] Frame Change: 18.57 → Simulated FAKE\n",
            "\u001b[1m1/1\u001b[0m \u001b[32m━━━━━━━━━━━━━━━━━━━━\u001b[0m\u001b[37m\u001b[0m \u001b[1m0s\u001b[0m 63ms/step\n",
            "\u001b[1m1/1\u001b[0m \u001b[32m━━━━━━━━━━━━━━━━━━━━\u001b[0m\u001b[37m\u001b[0m \u001b[1m0s\u001b[0m 67ms/step\n",
            "\u001b[1m1/1\u001b[0m \u001b[32m━━━━━━━━━━━━━━━━━━━━\u001b[0m\u001b[37m\u001b[0m \u001b[1m0s\u001b[0m 61ms/step\n",
            "\u001b[1m1/1\u001b[0m \u001b[32m━━━━━━━━━━━━━━━━━━━━\u001b[0m\u001b[37m\u001b[0m \u001b[1m0s\u001b[0m 51ms/step\n",
            "\u001b[1m1/1\u001b[0m \u001b[32m━━━━━━━━━━━━━━━━━━━━\u001b[0m\u001b[37m\u001b[0m \u001b[1m0s\u001b[0m 64ms/step\n",
            "\u001b[1m1/1\u001b[0m \u001b[32m━━━━━━━━━━━━━━━━━━━━\u001b[0m\u001b[37m\u001b[0m \u001b[1m0s\u001b[0m 48ms/step\n",
            "\u001b[1m1/1\u001b[0m \u001b[32m━━━━━━━━━━━━━━━━━━━━\u001b[0m\u001b[37m\u001b[0m \u001b[1m0s\u001b[0m 48ms/step\n",
            "\u001b[1m1/1\u001b[0m \u001b[32m━━━━━━━━━━━━━━━━━━━━\u001b[0m\u001b[37m\u001b[0m \u001b[1m0s\u001b[0m 55ms/step\n",
            "[MOVEMENT DETECTED] Frame Change: 17.23 → Simulated FAKE\n",
            "\u001b[1m1/1\u001b[0m \u001b[32m━━━━━━━━━━━━━━━━━━━━\u001b[0m\u001b[37m\u001b[0m \u001b[1m0s\u001b[0m 62ms/step\n",
            "\u001b[1m1/1\u001b[0m \u001b[32m━━━━━━━━━━━━━━━━━━━━\u001b[0m\u001b[37m\u001b[0m \u001b[1m0s\u001b[0m 52ms/step\n",
            "[MOVEMENT DETECTED] Frame Change: 24.02 → Simulated FAKE\n",
            "\u001b[1m1/1\u001b[0m \u001b[32m━━━━━━━━━━━━━━━━━━━━\u001b[0m\u001b[37m\u001b[0m \u001b[1m0s\u001b[0m 64ms/step\n",
            "\u001b[1m1/1\u001b[0m \u001b[32m━━━━━━━━━━━━━━━━━━━━\u001b[0m\u001b[37m\u001b[0m \u001b[1m0s\u001b[0m 55ms/step\n",
            "[MOVEMENT DETECTED] Frame Change: 38.41 → Simulated FAKE\n",
            "\u001b[1m1/1\u001b[0m \u001b[32m━━━━━━━━━━━━━━━━━━━━\u001b[0m\u001b[37m\u001b[0m \u001b[1m0s\u001b[0m 49ms/step\n",
            "\u001b[1m1/1\u001b[0m \u001b[32m━━━━━━━━━━━━━━━━━━━━\u001b[0m\u001b[37m\u001b[0m \u001b[1m0s\u001b[0m 50ms/step\n",
            "[MOVEMENT DETECTED] Frame Change: 25.67 → Simulated FAKE\n",
            "\u001b[1m1/1\u001b[0m \u001b[32m━━━━━━━━━━━━━━━━━━━━\u001b[0m\u001b[37m\u001b[0m \u001b[1m0s\u001b[0m 67ms/step\n",
            "\u001b[1m1/1\u001b[0m \u001b[32m━━━━━━━━━━━━━━━━━━━━\u001b[0m\u001b[37m\u001b[0m \u001b[1m0s\u001b[0m 64ms/step\n",
            "[MOVEMENT DETECTED] Frame Change: 13.85 → Simulated FAKE\n",
            "\u001b[1m1/1\u001b[0m \u001b[32m━━━━━━━━━━━━━━━━━━━━\u001b[0m\u001b[37m\u001b[0m \u001b[1m0s\u001b[0m 59ms/step\n",
            "\u001b[1m1/1\u001b[0m \u001b[32m━━━━━━━━━━━━━━━━━━━━\u001b[0m\u001b[37m\u001b[0m \u001b[1m0s\u001b[0m 51ms/step\n",
            "[MOVEMENT DETECTED] Frame Change: 27.20 → Simulated FAKE\n",
            "\u001b[1m1/1\u001b[0m \u001b[32m━━━━━━━━━━━━━━━━━━━━\u001b[0m\u001b[37m\u001b[0m \u001b[1m0s\u001b[0m 55ms/step\n",
            "\u001b[1m1/1\u001b[0m \u001b[32m━━━━━━━━━━━━━━━━━━━━\u001b[0m\u001b[37m\u001b[0m \u001b[1m0s\u001b[0m 69ms/step\n",
            "[MOVEMENT DETECTED] Frame Change: 12.98 → Simulated FAKE\n",
            "\u001b[1m1/1\u001b[0m \u001b[32m━━━━━━━━━━━━━━━━━━━━\u001b[0m\u001b[37m\u001b[0m \u001b[1m0s\u001b[0m 70ms/step\n",
            "\u001b[1m1/1\u001b[0m \u001b[32m━━━━━━━━━━━━━━━━━━━━\u001b[0m\u001b[37m\u001b[0m \u001b[1m0s\u001b[0m 50ms/step\n",
            "[MOVEMENT DETECTED] Frame Change: 17.47 → Simulated FAKE\n",
            "\u001b[1m1/1\u001b[0m \u001b[32m━━━━━━━━━━━━━━━━━━━━\u001b[0m\u001b[37m\u001b[0m \u001b[1m0s\u001b[0m 53ms/step\n",
            "\u001b[1m1/1\u001b[0m \u001b[32m━━━━━━━━━━━━━━━━━━━━\u001b[0m\u001b[37m\u001b[0m \u001b[1m0s\u001b[0m 48ms/step\n",
            "[MOVEMENT DETECTED] Frame Change: 20.22 → Simulated FAKE\n",
            "\u001b[1m1/1\u001b[0m \u001b[32m━━━━━━━━━━━━━━━━━━━━\u001b[0m\u001b[37m\u001b[0m \u001b[1m0s\u001b[0m 64ms/step\n",
            "\u001b[1m1/1\u001b[0m \u001b[32m━━━━━━━━━━━━━━━━━━━━\u001b[0m\u001b[37m\u001b[0m \u001b[1m0s\u001b[0m 69ms/step\n",
            "[MOVEMENT DETECTED] Frame Change: 14.94 → Simulated FAKE\n",
            "\u001b[1m1/1\u001b[0m \u001b[32m━━━━━━━━━━━━━━━━━━━━\u001b[0m\u001b[37m\u001b[0m \u001b[1m0s\u001b[0m 69ms/step\n",
            "\u001b[1m1/1\u001b[0m \u001b[32m━━━━━━━━━━━━━━━━━━━━\u001b[0m\u001b[37m\u001b[0m \u001b[1m0s\u001b[0m 50ms/step\n",
            "[MOVEMENT DETECTED] Frame Change: 17.69 → Simulated FAKE\n",
            "\u001b[1m1/1\u001b[0m \u001b[32m━━━━━━━━━━━━━━━━━━━━\u001b[0m\u001b[37m\u001b[0m \u001b[1m0s\u001b[0m 55ms/step\n",
            "\u001b[1m1/1\u001b[0m \u001b[32m━━━━━━━━━━━━━━━━━━━━\u001b[0m\u001b[37m\u001b[0m \u001b[1m0s\u001b[0m 55ms/step\n",
            "[MOVEMENT DETECTED] Frame Change: 17.92 → Simulated FAKE\n",
            "\u001b[1m1/1\u001b[0m \u001b[32m━━━━━━━━━━━━━━━━━━━━\u001b[0m\u001b[37m\u001b[0m \u001b[1m0s\u001b[0m 61ms/step\n",
            "\u001b[1m1/1\u001b[0m \u001b[32m━━━━━━━━━━━━━━━━━━━━\u001b[0m\u001b[37m\u001b[0m \u001b[1m0s\u001b[0m 63ms/step\n",
            "\u001b[1m1/1\u001b[0m \u001b[32m━━━━━━━━━━━━━━━━━━━━\u001b[0m\u001b[37m\u001b[0m \u001b[1m0s\u001b[0m 49ms/step\n",
            "\u001b[1m1/1\u001b[0m \u001b[32m━━━━━━━━━━━━━━━━━━━━\u001b[0m\u001b[37m\u001b[0m \u001b[1m0s\u001b[0m 61ms/step\n",
            "\u001b[1m1/1\u001b[0m \u001b[32m━━━━━━━━━━━━━━━━━━━━\u001b[0m\u001b[37m\u001b[0m \u001b[1m0s\u001b[0m 53ms/step\n",
            "\u001b[1m1/1\u001b[0m \u001b[32m━━━━━━━━━━━━━━━━━━━━\u001b[0m\u001b[37m\u001b[0m \u001b[1m0s\u001b[0m 61ms/step\n",
            "[MOVEMENT DETECTED] Frame Change: 27.01 → Simulated FAKE\n",
            "\u001b[1m1/1\u001b[0m \u001b[32m━━━━━━━━━━━━━━━━━━━━\u001b[0m\u001b[37m\u001b[0m \u001b[1m0s\u001b[0m 64ms/step\n",
            "\u001b[1m1/1\u001b[0m \u001b[32m━━━━━━━━━━━━━━━━━━━━\u001b[0m\u001b[37m\u001b[0m \u001b[1m0s\u001b[0m 56ms/step\n",
            "\u001b[1m1/1\u001b[0m \u001b[32m━━━━━━━━━━━━━━━━━━━━\u001b[0m\u001b[37m\u001b[0m \u001b[1m0s\u001b[0m 78ms/step\n",
            "\u001b[1m1/1\u001b[0m \u001b[32m━━━━━━━━━━━━━━━━━━━━\u001b[0m\u001b[37m\u001b[0m \u001b[1m0s\u001b[0m 62ms/step\n",
            "[MOVEMENT DETECTED] Frame Change: 10.92 → Simulated FAKE\n",
            "\u001b[1m1/1\u001b[0m \u001b[32m━━━━━━━━━━━━━━━━━━━━\u001b[0m\u001b[37m\u001b[0m \u001b[1m0s\u001b[0m 73ms/step\n",
            "\u001b[1m1/1\u001b[0m \u001b[32m━━━━━━━━━━━━━━━━━━━━\u001b[0m\u001b[37m\u001b[0m \u001b[1m0s\u001b[0m 56ms/step\n",
            "\u001b[1m1/1\u001b[0m \u001b[32m━━━━━━━━━━━━━━━━━━━━\u001b[0m\u001b[37m\u001b[0m \u001b[1m0s\u001b[0m 74ms/step\n",
            "\u001b[1m1/1\u001b[0m \u001b[32m━━━━━━━━━━━━━━━━━━━━\u001b[0m\u001b[37m\u001b[0m \u001b[1m0s\u001b[0m 65ms/step\n",
            "[MOVEMENT DETECTED] Frame Change: 13.38 → Simulated FAKE\n",
            "\u001b[1m1/1\u001b[0m \u001b[32m━━━━━━━━━━━━━━━━━━━━\u001b[0m\u001b[37m\u001b[0m \u001b[1m0s\u001b[0m 59ms/step\n",
            "\u001b[1m1/1\u001b[0m \u001b[32m━━━━━━━━━━━━━━━━━━━━\u001b[0m\u001b[37m\u001b[0m \u001b[1m0s\u001b[0m 69ms/step\n",
            "\u001b[1m1/1\u001b[0m \u001b[32m━━━━━━━━━━━━━━━━━━━━\u001b[0m\u001b[37m\u001b[0m \u001b[1m0s\u001b[0m 63ms/step\n",
            "\u001b[1m1/1\u001b[0m \u001b[32m━━━━━━━━━━━━━━━━━━━━\u001b[0m\u001b[37m\u001b[0m \u001b[1m0s\u001b[0m 62ms/step\n",
            "\u001b[1m1/1\u001b[0m \u001b[32m━━━━━━━━━━━━━━━━━━━━\u001b[0m\u001b[37m\u001b[0m \u001b[1m0s\u001b[0m 63ms/step\n",
            "\u001b[1m1/1\u001b[0m \u001b[32m━━━━━━━━━━━━━━━━━━━━\u001b[0m\u001b[37m\u001b[0m \u001b[1m0s\u001b[0m 63ms/step\n",
            "\u001b[1m1/1\u001b[0m \u001b[32m━━━━━━━━━━━━━━━━━━━━\u001b[0m\u001b[37m\u001b[0m \u001b[1m0s\u001b[0m 68ms/step\n",
            "\u001b[1m1/1\u001b[0m \u001b[32m━━━━━━━━━━━━━━━━━━━━\u001b[0m\u001b[37m\u001b[0m \u001b[1m0s\u001b[0m 54ms/step\n",
            "[MOVEMENT DETECTED] Frame Change: 22.83 → Simulated FAKE\n",
            "\u001b[1m1/1\u001b[0m \u001b[32m━━━━━━━━━━━━━━━━━━━━\u001b[0m\u001b[37m\u001b[0m \u001b[1m0s\u001b[0m 58ms/step\n"
          ]
        },
        {
          "data": {
            "text/plain": [
              "-1"
            ]
          },
          "execution_count": 16,
          "metadata": {},
          "output_type": "execute_result"
        }
      ],
      "source": [
        "import cv2\n",
        "import numpy as np\n",
        "import tensorflow as tf\n",
        "from tensorflow.keras.preprocessing.image import img_to_array\n",
        "import mediapipe as mp\n",
        "\n",
        "# Load Cheating Detection Model\n",
        "cheating_model = tf.keras.models.load_model(r\"C:\\Users\\posha\\OneDrive\\Malpractices\\cheating_detection_model.h5\")\n",
        "with open(r\"C:\\Users\\posha\\OneDrive\\Malpractices\\cheating_class_labels.txt\", \"r\") as f:\n",
        "    cheating_labels = [line.strip() for line in f.readlines()]\n",
        "\n",
        "# Load Anti-Spoofing Model\n",
        "spoof_model = tf.keras.models.load_model(r\"C:\\Users\\posha\\OneDrive\\Malpractices\\anti_spoofing_model.h5\")\n",
        "with open(r\"C:\\Users\\posha\\OneDrive\\Malpractices\\anti_spoofing_labels.txt\", \"r\") as f:\n",
        "    spoof_labels = [line.strip() for line in f.readlines()]\n",
        "\n",
        "# Initialize MediaPipe Face Detection\n",
        "mp_face = mp.solutions.face_detection\n",
        "face_detection = mp_face.FaceDetection(model_selection=0, min_detection_confidence=0.6)\n",
        "\n",
        "cap = cv2.VideoCapture(0)\n",
        "\n",
        "if not cap.isOpened():\n",
        "    print(\"Webcam not detected.\")\n",
        "    exit()\n",
        "\n",
        "print(\"Press 'q' to quit.\")\n",
        "\n",
        "prev_gray = None  # Store previous grayscale frame\n",
        "\n",
        "while True:\n",
        "    ret, frame = cap.read()\n",
        "    if not ret:\n",
        "        break\n",
        "\n",
        "    frame_gray = cv2.cvtColor(frame, cv2.COLOR_BGR2GRAY)\n",
        "\n",
        "    # Compute Frame Difference\n",
        "    frame_diff = 0\n",
        "    if prev_gray is not None:\n",
        "        diff = cv2.absdiff(prev_gray, frame_gray)\n",
        "        frame_diff = np.sum(diff) / (frame_gray.shape[0] * frame_gray.shape[1])\n",
        "\n",
        "    prev_gray = frame_gray.copy()\n",
        "\n",
        "    # Face Detection\n",
        "    frame_rgb = cv2.cvtColor(frame, cv2.COLOR_BGR2RGB)\n",
        "    results = face_detection.process(frame_rgb)\n",
        "\n",
        "    if results.detections:\n",
        "        for detection in results.detections:\n",
        "            bboxC = detection.location_data.relative_bounding_box\n",
        "            ih, iw, _ = frame.shape\n",
        "            x = int(bboxC.xmin * iw)\n",
        "            y = int(bboxC.ymin * ih)\n",
        "            w = int(bboxC.width * iw)\n",
        "            h = int(bboxC.height * ih)\n",
        "\n",
        "            # Clamp coordinates to frame bounds\n",
        "            x = max(0, x)\n",
        "            y = max(0, y)\n",
        "            x2 = min(iw, x + w)\n",
        "            y2 = min(ih, y + h)\n",
        "\n",
        "            # Skip invalid crops\n",
        "            if x2 - x <= 0 or y2 - y <= 0:\n",
        "                continue\n",
        "\n",
        "            face_crop = frame[y:y2, x:x2]\n",
        "\n",
        "            if face_crop.size == 0:\n",
        "                continue\n",
        "\n",
        "            # Preprocess for Anti-Spoofing\n",
        "            spoof_img = cv2.resize(face_crop, (128, 128))\n",
        "            spoof_img = img_to_array(spoof_img) / 255.0\n",
        "            spoof_img = np.expand_dims(spoof_img, axis=0)\n",
        "            spoof_pred = spoof_model.predict(spoof_img)[0]\n",
        "            spoof_idx = np.argmax(spoof_pred)\n",
        "            spoof_label = spoof_labels[spoof_idx]\n",
        "            spoof_confidence = spoof_pred[spoof_idx] * 100\n",
        "\n",
        "            if frame_diff > 10:  \n",
        "                if spoof_label == 'Real':\n",
        "                    spoof_label = 'Fake'\n",
        "                    spoof_confidence = 95.0\n",
        "                    print(f\"[MOVEMENT DETECTED] Frame Change: {frame_diff:.2f} → Simulated FAKE\")\n",
        "\n",
        "            # Draw bounding box\n",
        "            color = (0, 255, 0) if spoof_label == 'Real' else (0, 0, 255)\n",
        "            cv2.rectangle(frame, (x, y), (x2, y2), color, 2)\n",
        "\n",
        "            # Display Spoof Result\n",
        "            spoof_text = f\"Spoof: {spoof_label} ({spoof_confidence:.2f}%)\"\n",
        "            cv2.putText(frame, spoof_text, (x, y - 10), cv2.FONT_HERSHEY_SIMPLEX, 0.7, color, 2)\n",
        "\n",
        "    # Cheating Detection (Full Frame or ROI if required)\n",
        "    cheat_img = cv2.resize(frame, (128, 128))\n",
        "    cheat_img = img_to_array(cheat_img) / 255.0\n",
        "    cheat_img = np.expand_dims(cheat_img, axis=0)\n",
        "    cheat_pred = cheating_model.predict(cheat_img)[0]\n",
        "    cheat_idx = np.argmax(cheat_pred)\n",
        "    cheat_label = cheating_labels[cheat_idx]\n",
        "    cheat_confidence = cheat_pred[cheat_idx] * 100\n",
        "\n",
        "    cheat_text = f\"Cheating: {cheat_label} ({cheat_confidence:.2f}%)\"\n",
        "    cv2.putText(frame, cheat_text, (20, 40), cv2.FONT_HERSHEY_SIMPLEX, 0.8, (255, 0, 0), 2)\n",
        "\n",
        "    cv2.imshow(\"Cheating & Anti-Spoofing Detection\", frame)\n",
        "\n",
        "    if cv2.waitKey(1) & 0xFF == ord('q'):\n",
        "        break\n",
        "\n",
        "cap.release()\n",
        "cv2.destroyAllWindows()\n",
        "cv2.waitKey(1)\n"
      ]
    }
  ],
  "metadata": {
    "colab": {
      "provenance": []
    },
    "kernelspec": {
      "display_name": "myenv",
      "language": "python",
      "name": "python3"
    },
    "language_info": {
      "codemirror_mode": {
        "name": "ipython",
        "version": 3
      },
      "file_extension": ".py",
      "mimetype": "text/x-python",
      "name": "python",
      "nbconvert_exporter": "python",
      "pygments_lexer": "ipython3",
      "version": "3.12.4"
    }
  },
  "nbformat": 4,
  "nbformat_minor": 0
}
